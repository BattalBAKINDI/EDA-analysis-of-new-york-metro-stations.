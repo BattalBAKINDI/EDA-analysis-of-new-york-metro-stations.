{
  "cells": [
    {
      "cell_type": "markdown",
      "source": [
        "## **importing necessary libraries and data.**"
      ],
      "metadata": {
        "id": "a2MGx6-eDLKr"
      }
    },
    {
      "cell_type": "code",
      "execution_count": null,
      "metadata": {
        "id": "qYHt_ktCyFov"
      },
      "outputs": [],
      "source": [
        "import pandas as pd\n",
        "import numpy as np\n",
        "import matplotlib.pyplot as plt\n",
        "import seaborn as sns\n",
        "import datetime \n",
        "import random"
      ]
    },
    {
      "cell_type": "code",
      "execution_count": null,
      "metadata": {
        "id": "ucLvDgyBDL1s"
      },
      "outputs": [],
      "source": [
        "data = pd.read_csv('/content/drive/MyDrive/bootcamp-first-project/bootcamp-first-project-datas/turnstile_all.csv',index_col=0)\n",
        "datacp = data.copy()"
      ]
    },
    {
      "cell_type": "markdown",
      "source": [
        "## **recognize data**"
      ],
      "metadata": {
        "id": "Bh0NH4wqDd14"
      }
    },
    {
      "cell_type": "code",
      "source": [
        "datacp.head()"
      ],
      "metadata": {
        "id": "-XL9G3mQDZ3A",
        "colab": {
          "base_uri": "https://localhost:8080/",
          "height": 206
        },
        "outputId": "55b89b32-71ba-4aaa-c64c-22e064891fba"
      },
      "execution_count": null,
      "outputs": [
        {
          "output_type": "execute_result",
          "data": {
            "text/plain": [
              "                stop_name division     line borough structure  gtfs_longitude  \\\n",
              "0  Astoria - Ditmars Blvd      BMT  Astoria       Q  Elevated      -73.912034   \n",
              "1  Astoria - Ditmars Blvd      BMT  Astoria       Q  Elevated      -73.912034   \n",
              "2  Astoria - Ditmars Blvd      BMT  Astoria       Q  Elevated      -73.912034   \n",
              "3  Astoria - Ditmars Blvd      BMT  Astoria       Q  Elevated      -73.912034   \n",
              "4  Astoria - Ditmars Blvd      BMT  Astoria       Q  Elevated      -73.912034   \n",
              "\n",
              "   gtfs_latitude        date  entries    exits  \n",
              "0      40.775036  2015-01-01   7014.0   7934.0  \n",
              "1      40.775036  2015-01-02  13367.0  12113.0  \n",
              "2      40.775036  2015-01-03   9084.0   7892.0  \n",
              "3      40.775036  2015-01-04   6115.0   5991.0  \n",
              "4      40.775036  2015-01-05  16376.0  14893.0  "
            ],
            "text/html": [
              "\n",
              "  <div id=\"df-e797bea4-d088-4c41-accc-3347edcf3057\">\n",
              "    <div class=\"colab-df-container\">\n",
              "      <div>\n",
              "<style scoped>\n",
              "    .dataframe tbody tr th:only-of-type {\n",
              "        vertical-align: middle;\n",
              "    }\n",
              "\n",
              "    .dataframe tbody tr th {\n",
              "        vertical-align: top;\n",
              "    }\n",
              "\n",
              "    .dataframe thead th {\n",
              "        text-align: right;\n",
              "    }\n",
              "</style>\n",
              "<table border=\"1\" class=\"dataframe\">\n",
              "  <thead>\n",
              "    <tr style=\"text-align: right;\">\n",
              "      <th></th>\n",
              "      <th>stop_name</th>\n",
              "      <th>division</th>\n",
              "      <th>line</th>\n",
              "      <th>borough</th>\n",
              "      <th>structure</th>\n",
              "      <th>gtfs_longitude</th>\n",
              "      <th>gtfs_latitude</th>\n",
              "      <th>date</th>\n",
              "      <th>entries</th>\n",
              "      <th>exits</th>\n",
              "    </tr>\n",
              "  </thead>\n",
              "  <tbody>\n",
              "    <tr>\n",
              "      <th>0</th>\n",
              "      <td>Astoria - Ditmars Blvd</td>\n",
              "      <td>BMT</td>\n",
              "      <td>Astoria</td>\n",
              "      <td>Q</td>\n",
              "      <td>Elevated</td>\n",
              "      <td>-73.912034</td>\n",
              "      <td>40.775036</td>\n",
              "      <td>2015-01-01</td>\n",
              "      <td>7014.0</td>\n",
              "      <td>7934.0</td>\n",
              "    </tr>\n",
              "    <tr>\n",
              "      <th>1</th>\n",
              "      <td>Astoria - Ditmars Blvd</td>\n",
              "      <td>BMT</td>\n",
              "      <td>Astoria</td>\n",
              "      <td>Q</td>\n",
              "      <td>Elevated</td>\n",
              "      <td>-73.912034</td>\n",
              "      <td>40.775036</td>\n",
              "      <td>2015-01-02</td>\n",
              "      <td>13367.0</td>\n",
              "      <td>12113.0</td>\n",
              "    </tr>\n",
              "    <tr>\n",
              "      <th>2</th>\n",
              "      <td>Astoria - Ditmars Blvd</td>\n",
              "      <td>BMT</td>\n",
              "      <td>Astoria</td>\n",
              "      <td>Q</td>\n",
              "      <td>Elevated</td>\n",
              "      <td>-73.912034</td>\n",
              "      <td>40.775036</td>\n",
              "      <td>2015-01-03</td>\n",
              "      <td>9084.0</td>\n",
              "      <td>7892.0</td>\n",
              "    </tr>\n",
              "    <tr>\n",
              "      <th>3</th>\n",
              "      <td>Astoria - Ditmars Blvd</td>\n",
              "      <td>BMT</td>\n",
              "      <td>Astoria</td>\n",
              "      <td>Q</td>\n",
              "      <td>Elevated</td>\n",
              "      <td>-73.912034</td>\n",
              "      <td>40.775036</td>\n",
              "      <td>2015-01-04</td>\n",
              "      <td>6115.0</td>\n",
              "      <td>5991.0</td>\n",
              "    </tr>\n",
              "    <tr>\n",
              "      <th>4</th>\n",
              "      <td>Astoria - Ditmars Blvd</td>\n",
              "      <td>BMT</td>\n",
              "      <td>Astoria</td>\n",
              "      <td>Q</td>\n",
              "      <td>Elevated</td>\n",
              "      <td>-73.912034</td>\n",
              "      <td>40.775036</td>\n",
              "      <td>2015-01-05</td>\n",
              "      <td>16376.0</td>\n",
              "      <td>14893.0</td>\n",
              "    </tr>\n",
              "  </tbody>\n",
              "</table>\n",
              "</div>\n",
              "      <button class=\"colab-df-convert\" onclick=\"convertToInteractive('df-e797bea4-d088-4c41-accc-3347edcf3057')\"\n",
              "              title=\"Convert this dataframe to an interactive table.\"\n",
              "              style=\"display:none;\">\n",
              "        \n",
              "  <svg xmlns=\"http://www.w3.org/2000/svg\" height=\"24px\"viewBox=\"0 0 24 24\"\n",
              "       width=\"24px\">\n",
              "    <path d=\"M0 0h24v24H0V0z\" fill=\"none\"/>\n",
              "    <path d=\"M18.56 5.44l.94 2.06.94-2.06 2.06-.94-2.06-.94-.94-2.06-.94 2.06-2.06.94zm-11 1L8.5 8.5l.94-2.06 2.06-.94-2.06-.94L8.5 2.5l-.94 2.06-2.06.94zm10 10l.94 2.06.94-2.06 2.06-.94-2.06-.94-.94-2.06-.94 2.06-2.06.94z\"/><path d=\"M17.41 7.96l-1.37-1.37c-.4-.4-.92-.59-1.43-.59-.52 0-1.04.2-1.43.59L10.3 9.45l-7.72 7.72c-.78.78-.78 2.05 0 2.83L4 21.41c.39.39.9.59 1.41.59.51 0 1.02-.2 1.41-.59l7.78-7.78 2.81-2.81c.8-.78.8-2.07 0-2.86zM5.41 20L4 18.59l7.72-7.72 1.47 1.35L5.41 20z\"/>\n",
              "  </svg>\n",
              "      </button>\n",
              "      \n",
              "  <style>\n",
              "    .colab-df-container {\n",
              "      display:flex;\n",
              "      flex-wrap:wrap;\n",
              "      gap: 12px;\n",
              "    }\n",
              "\n",
              "    .colab-df-convert {\n",
              "      background-color: #E8F0FE;\n",
              "      border: none;\n",
              "      border-radius: 50%;\n",
              "      cursor: pointer;\n",
              "      display: none;\n",
              "      fill: #1967D2;\n",
              "      height: 32px;\n",
              "      padding: 0 0 0 0;\n",
              "      width: 32px;\n",
              "    }\n",
              "\n",
              "    .colab-df-convert:hover {\n",
              "      background-color: #E2EBFA;\n",
              "      box-shadow: 0px 1px 2px rgba(60, 64, 67, 0.3), 0px 1px 3px 1px rgba(60, 64, 67, 0.15);\n",
              "      fill: #174EA6;\n",
              "    }\n",
              "\n",
              "    [theme=dark] .colab-df-convert {\n",
              "      background-color: #3B4455;\n",
              "      fill: #D2E3FC;\n",
              "    }\n",
              "\n",
              "    [theme=dark] .colab-df-convert:hover {\n",
              "      background-color: #434B5C;\n",
              "      box-shadow: 0px 1px 3px 1px rgba(0, 0, 0, 0.15);\n",
              "      filter: drop-shadow(0px 1px 2px rgba(0, 0, 0, 0.3));\n",
              "      fill: #FFFFFF;\n",
              "    }\n",
              "  </style>\n",
              "\n",
              "      <script>\n",
              "        const buttonEl =\n",
              "          document.querySelector('#df-e797bea4-d088-4c41-accc-3347edcf3057 button.colab-df-convert');\n",
              "        buttonEl.style.display =\n",
              "          google.colab.kernel.accessAllowed ? 'block' : 'none';\n",
              "\n",
              "        async function convertToInteractive(key) {\n",
              "          const element = document.querySelector('#df-e797bea4-d088-4c41-accc-3347edcf3057');\n",
              "          const dataTable =\n",
              "            await google.colab.kernel.invokeFunction('convertToInteractive',\n",
              "                                                     [key], {});\n",
              "          if (!dataTable) return;\n",
              "\n",
              "          const docLinkHtml = 'Like what you see? Visit the ' +\n",
              "            '<a target=\"_blank\" href=https://colab.research.google.com/notebooks/data_table.ipynb>data table notebook</a>'\n",
              "            + ' to learn more about interactive tables.';\n",
              "          element.innerHTML = '';\n",
              "          dataTable['output_type'] = 'display_data';\n",
              "          await google.colab.output.renderOutput(dataTable, element);\n",
              "          const docLink = document.createElement('div');\n",
              "          docLink.innerHTML = docLinkHtml;\n",
              "          element.appendChild(docLink);\n",
              "        }\n",
              "      </script>\n",
              "    </div>\n",
              "  </div>\n",
              "  "
            ]
          },
          "metadata": {},
          "execution_count": 3
        }
      ]
    },
    {
      "cell_type": "markdown",
      "source": [
        "7 years(2015-2021) of daily entry and exit data of new york subway stations."
      ],
      "metadata": {
        "id": "x4i-AH1Y3kfW"
      }
    },
    {
      "cell_type": "markdown",
      "metadata": {
        "id": "DhLUMntoEOJI"
      },
      "source": [
        "* **stop_name:** station name\n",
        "* **division:** Each section of the system is assigned a unique line name, usually paired with its original operating company or division (Brooklyn–Manhattan Transit Corporation (BMT).\n",
        "* **gfts_longitude:** longitude of the station\n",
        "* **gfts_latitude:** latitude of the station\n",
        "* **date:** dates of entry and exit\n",
        "* **entries:** Entrances to the station in one day\n",
        "* **exits:** exits to the station in one day\n",
        "* **line:** subway lines on which stations are located\n",
        "* **borough:** county where the station is located (broklyn,manhattan vs.)\n",
        "* **structure:** station or subway system architectural structure."
      ]
    },
    {
      "cell_type": "code",
      "execution_count": null,
      "metadata": {
        "colab": {
          "base_uri": "https://localhost:8080/"
        },
        "id": "WKfk2ChIVvBu",
        "outputId": "5a1a63e5-0169-49ba-a800-921e546019bc"
      },
      "outputs": [
        {
          "output_type": "stream",
          "name": "stdout",
          "text": [
            "<class 'pandas.core.frame.DataFrame'>\n",
            "Int64Index: 1118745 entries, 0 to 1118744\n",
            "Data columns (total 10 columns):\n",
            " #   Column          Non-Null Count    Dtype  \n",
            "---  ------          --------------    -----  \n",
            " 0   stop_name       1117882 non-null  object \n",
            " 1   division        1117882 non-null  object \n",
            " 2   line            1075565 non-null  object \n",
            " 3   borough         1075565 non-null  object \n",
            " 4   structure       1075565 non-null  object \n",
            " 5   gtfs_longitude  1117882 non-null  float64\n",
            " 6   gtfs_latitude   1117882 non-null  float64\n",
            " 7   date            1118745 non-null  object \n",
            " 8   entries         1118471 non-null  float64\n",
            " 9   exits           1118471 non-null  float64\n",
            "dtypes: float64(4), object(6)\n",
            "memory usage: 93.9+ MB\n"
          ]
        }
      ],
      "source": [
        "datacp.info()"
      ]
    },
    {
      "cell_type": "markdown",
      "metadata": {
        "id": "97aCHky4mr9z"
      },
      "source": [
        "***Comment***\n",
        "\n",
        "* We can see that the dataset contains mixture of categorical and numerical variables.\n",
        "\n",
        "* Categorical variables have data type `object`.\n",
        "\n",
        "* Numerical variables have data type `float64`.\n",
        "\n",
        "* Also, there are some missing values in the dataset. We will explore it later."
      ]
    },
    {
      "cell_type": "code",
      "execution_count": null,
      "metadata": {
        "colab": {
          "base_uri": "https://localhost:8080/"
        },
        "id": "bRBpK_G2sQYa",
        "outputId": "3b5240d0-15df-427b-bc36-bcebc7dd965d"
      },
      "outputs": [
        {
          "output_type": "execute_result",
          "data": {
            "text/plain": [
              "(1118745, 10)"
            ]
          },
          "metadata": {},
          "execution_count": 5
        }
      ],
      "source": [
        "np.shape(datacp)"
      ]
    },
    {
      "cell_type": "markdown",
      "source": [
        "* The dataset consists of 1118745 rows and 10 columns."
      ],
      "metadata": {
        "id": "ZzCMYA3B9Vev"
      }
    },
    {
      "cell_type": "code",
      "execution_count": null,
      "metadata": {
        "colab": {
          "base_uri": "https://localhost:8080/"
        },
        "id": "3rquufrgbkNK",
        "outputId": "0397a05d-cd43-4caa-c938-ac342a4ea377"
      },
      "outputs": [
        {
          "output_type": "execute_result",
          "data": {
            "text/plain": [
              "0"
            ]
          },
          "metadata": {},
          "execution_count": 6
        }
      ],
      "source": [
        "datacp.duplicated().sum()"
      ]
    },
    {
      "cell_type": "markdown",
      "source": [
        "* There are no repeating lines."
      ],
      "metadata": {
        "id": "qucUnIXz9rNm"
      }
    },
    {
      "cell_type": "code",
      "execution_count": null,
      "metadata": {
        "colab": {
          "base_uri": "https://localhost:8080/"
        },
        "id": "B3mIajh1fHSp",
        "outputId": "b1c2f972-ec77-48bb-e184-9f55f832ab11"
      },
      "outputs": [
        {
          "output_type": "execute_result",
          "data": {
            "text/plain": [
              "stop_name           863\n",
              "division            863\n",
              "line              43180\n",
              "borough           43180\n",
              "structure         43180\n",
              "gtfs_longitude      863\n",
              "gtfs_latitude       863\n",
              "date                  0\n",
              "entries             274\n",
              "exits               274\n",
              "dtype: int64"
            ]
          },
          "metadata": {},
          "execution_count": 7
        }
      ],
      "source": [
        "datacp.isnull().sum()"
      ]
    },
    {
      "cell_type": "markdown",
      "source": [
        "* observing missing values."
      ],
      "metadata": {
        "id": "1kPwjKlX-SN7"
      }
    },
    {
      "cell_type": "markdown",
      "source": [
        "## **feature extraction**"
      ],
      "metadata": {
        "id": "zlkDvsHSD1t3"
      }
    },
    {
      "cell_type": "code",
      "source": [
        "datacp.head()"
      ],
      "metadata": {
        "colab": {
          "base_uri": "https://localhost:8080/",
          "height": 206
        },
        "id": "cXatDV0PFGh3",
        "outputId": "21bc13dc-2be0-4f7d-86d4-944a8042ccbd"
      },
      "execution_count": null,
      "outputs": [
        {
          "output_type": "execute_result",
          "data": {
            "text/plain": [
              "                stop_name division     line borough structure  gtfs_longitude  \\\n",
              "0  Astoria - Ditmars Blvd      BMT  Astoria       Q  Elevated      -73.912034   \n",
              "1  Astoria - Ditmars Blvd      BMT  Astoria       Q  Elevated      -73.912034   \n",
              "2  Astoria - Ditmars Blvd      BMT  Astoria       Q  Elevated      -73.912034   \n",
              "3  Astoria - Ditmars Blvd      BMT  Astoria       Q  Elevated      -73.912034   \n",
              "4  Astoria - Ditmars Blvd      BMT  Astoria       Q  Elevated      -73.912034   \n",
              "\n",
              "   gtfs_latitude        date  entries    exits  \n",
              "0      40.775036  2015-01-01   7014.0   7934.0  \n",
              "1      40.775036  2015-01-02  13367.0  12113.0  \n",
              "2      40.775036  2015-01-03   9084.0   7892.0  \n",
              "3      40.775036  2015-01-04   6115.0   5991.0  \n",
              "4      40.775036  2015-01-05  16376.0  14893.0  "
            ],
            "text/html": [
              "\n",
              "  <div id=\"df-b160b56f-47de-428a-906d-9f39566eaf8e\">\n",
              "    <div class=\"colab-df-container\">\n",
              "      <div>\n",
              "<style scoped>\n",
              "    .dataframe tbody tr th:only-of-type {\n",
              "        vertical-align: middle;\n",
              "    }\n",
              "\n",
              "    .dataframe tbody tr th {\n",
              "        vertical-align: top;\n",
              "    }\n",
              "\n",
              "    .dataframe thead th {\n",
              "        text-align: right;\n",
              "    }\n",
              "</style>\n",
              "<table border=\"1\" class=\"dataframe\">\n",
              "  <thead>\n",
              "    <tr style=\"text-align: right;\">\n",
              "      <th></th>\n",
              "      <th>stop_name</th>\n",
              "      <th>division</th>\n",
              "      <th>line</th>\n",
              "      <th>borough</th>\n",
              "      <th>structure</th>\n",
              "      <th>gtfs_longitude</th>\n",
              "      <th>gtfs_latitude</th>\n",
              "      <th>date</th>\n",
              "      <th>entries</th>\n",
              "      <th>exits</th>\n",
              "    </tr>\n",
              "  </thead>\n",
              "  <tbody>\n",
              "    <tr>\n",
              "      <th>0</th>\n",
              "      <td>Astoria - Ditmars Blvd</td>\n",
              "      <td>BMT</td>\n",
              "      <td>Astoria</td>\n",
              "      <td>Q</td>\n",
              "      <td>Elevated</td>\n",
              "      <td>-73.912034</td>\n",
              "      <td>40.775036</td>\n",
              "      <td>2015-01-01</td>\n",
              "      <td>7014.0</td>\n",
              "      <td>7934.0</td>\n",
              "    </tr>\n",
              "    <tr>\n",
              "      <th>1</th>\n",
              "      <td>Astoria - Ditmars Blvd</td>\n",
              "      <td>BMT</td>\n",
              "      <td>Astoria</td>\n",
              "      <td>Q</td>\n",
              "      <td>Elevated</td>\n",
              "      <td>-73.912034</td>\n",
              "      <td>40.775036</td>\n",
              "      <td>2015-01-02</td>\n",
              "      <td>13367.0</td>\n",
              "      <td>12113.0</td>\n",
              "    </tr>\n",
              "    <tr>\n",
              "      <th>2</th>\n",
              "      <td>Astoria - Ditmars Blvd</td>\n",
              "      <td>BMT</td>\n",
              "      <td>Astoria</td>\n",
              "      <td>Q</td>\n",
              "      <td>Elevated</td>\n",
              "      <td>-73.912034</td>\n",
              "      <td>40.775036</td>\n",
              "      <td>2015-01-03</td>\n",
              "      <td>9084.0</td>\n",
              "      <td>7892.0</td>\n",
              "    </tr>\n",
              "    <tr>\n",
              "      <th>3</th>\n",
              "      <td>Astoria - Ditmars Blvd</td>\n",
              "      <td>BMT</td>\n",
              "      <td>Astoria</td>\n",
              "      <td>Q</td>\n",
              "      <td>Elevated</td>\n",
              "      <td>-73.912034</td>\n",
              "      <td>40.775036</td>\n",
              "      <td>2015-01-04</td>\n",
              "      <td>6115.0</td>\n",
              "      <td>5991.0</td>\n",
              "    </tr>\n",
              "    <tr>\n",
              "      <th>4</th>\n",
              "      <td>Astoria - Ditmars Blvd</td>\n",
              "      <td>BMT</td>\n",
              "      <td>Astoria</td>\n",
              "      <td>Q</td>\n",
              "      <td>Elevated</td>\n",
              "      <td>-73.912034</td>\n",
              "      <td>40.775036</td>\n",
              "      <td>2015-01-05</td>\n",
              "      <td>16376.0</td>\n",
              "      <td>14893.0</td>\n",
              "    </tr>\n",
              "  </tbody>\n",
              "</table>\n",
              "</div>\n",
              "      <button class=\"colab-df-convert\" onclick=\"convertToInteractive('df-b160b56f-47de-428a-906d-9f39566eaf8e')\"\n",
              "              title=\"Convert this dataframe to an interactive table.\"\n",
              "              style=\"display:none;\">\n",
              "        \n",
              "  <svg xmlns=\"http://www.w3.org/2000/svg\" height=\"24px\"viewBox=\"0 0 24 24\"\n",
              "       width=\"24px\">\n",
              "    <path d=\"M0 0h24v24H0V0z\" fill=\"none\"/>\n",
              "    <path d=\"M18.56 5.44l.94 2.06.94-2.06 2.06-.94-2.06-.94-.94-2.06-.94 2.06-2.06.94zm-11 1L8.5 8.5l.94-2.06 2.06-.94-2.06-.94L8.5 2.5l-.94 2.06-2.06.94zm10 10l.94 2.06.94-2.06 2.06-.94-2.06-.94-.94-2.06-.94 2.06-2.06.94z\"/><path d=\"M17.41 7.96l-1.37-1.37c-.4-.4-.92-.59-1.43-.59-.52 0-1.04.2-1.43.59L10.3 9.45l-7.72 7.72c-.78.78-.78 2.05 0 2.83L4 21.41c.39.39.9.59 1.41.59.51 0 1.02-.2 1.41-.59l7.78-7.78 2.81-2.81c.8-.78.8-2.07 0-2.86zM5.41 20L4 18.59l7.72-7.72 1.47 1.35L5.41 20z\"/>\n",
              "  </svg>\n",
              "      </button>\n",
              "      \n",
              "  <style>\n",
              "    .colab-df-container {\n",
              "      display:flex;\n",
              "      flex-wrap:wrap;\n",
              "      gap: 12px;\n",
              "    }\n",
              "\n",
              "    .colab-df-convert {\n",
              "      background-color: #E8F0FE;\n",
              "      border: none;\n",
              "      border-radius: 50%;\n",
              "      cursor: pointer;\n",
              "      display: none;\n",
              "      fill: #1967D2;\n",
              "      height: 32px;\n",
              "      padding: 0 0 0 0;\n",
              "      width: 32px;\n",
              "    }\n",
              "\n",
              "    .colab-df-convert:hover {\n",
              "      background-color: #E2EBFA;\n",
              "      box-shadow: 0px 1px 2px rgba(60, 64, 67, 0.3), 0px 1px 3px 1px rgba(60, 64, 67, 0.15);\n",
              "      fill: #174EA6;\n",
              "    }\n",
              "\n",
              "    [theme=dark] .colab-df-convert {\n",
              "      background-color: #3B4455;\n",
              "      fill: #D2E3FC;\n",
              "    }\n",
              "\n",
              "    [theme=dark] .colab-df-convert:hover {\n",
              "      background-color: #434B5C;\n",
              "      box-shadow: 0px 1px 3px 1px rgba(0, 0, 0, 0.15);\n",
              "      filter: drop-shadow(0px 1px 2px rgba(0, 0, 0, 0.3));\n",
              "      fill: #FFFFFF;\n",
              "    }\n",
              "  </style>\n",
              "\n",
              "      <script>\n",
              "        const buttonEl =\n",
              "          document.querySelector('#df-b160b56f-47de-428a-906d-9f39566eaf8e button.colab-df-convert');\n",
              "        buttonEl.style.display =\n",
              "          google.colab.kernel.accessAllowed ? 'block' : 'none';\n",
              "\n",
              "        async function convertToInteractive(key) {\n",
              "          const element = document.querySelector('#df-b160b56f-47de-428a-906d-9f39566eaf8e');\n",
              "          const dataTable =\n",
              "            await google.colab.kernel.invokeFunction('convertToInteractive',\n",
              "                                                     [key], {});\n",
              "          if (!dataTable) return;\n",
              "\n",
              "          const docLinkHtml = 'Like what you see? Visit the ' +\n",
              "            '<a target=\"_blank\" href=https://colab.research.google.com/notebooks/data_table.ipynb>data table notebook</a>'\n",
              "            + ' to learn more about interactive tables.';\n",
              "          element.innerHTML = '';\n",
              "          dataTable['output_type'] = 'display_data';\n",
              "          await google.colab.output.renderOutput(dataTable, element);\n",
              "          const docLink = document.createElement('div');\n",
              "          docLink.innerHTML = docLinkHtml;\n",
              "          element.appendChild(docLink);\n",
              "        }\n",
              "      </script>\n",
              "    </div>\n",
              "  </div>\n",
              "  "
            ]
          },
          "metadata": {},
          "execution_count": 8
        }
      ]
    },
    {
      "cell_type": "code",
      "source": [
        "datacp[\"entries_exits\"] = datacp.entries + datacp.exits"
      ],
      "metadata": {
        "id": "oG5YNrZD_rgl"
      },
      "execution_count": null,
      "outputs": []
    },
    {
      "cell_type": "markdown",
      "source": [
        "* creating a new column containing the total entries and exits."
      ],
      "metadata": {
        "id": "Apm3pE2LEWYk"
      }
    },
    {
      "cell_type": "code",
      "source": [
        "datacp['gtfs_longitude'] = abs(datacp.gtfs_longitude)\n",
        "datacp[\"gtfs_latitude\"] = abs(datacp.gtfs_latitude)\n",
        "datacp[\"station area\"] = datacp.gtfs_latitude * datacp.gtfs_longitude"
      ],
      "metadata": {
        "id": "UlVZWykW_71I"
      },
      "execution_count": null,
      "outputs": []
    },
    {
      "cell_type": "markdown",
      "source": [
        "* adding the stations area as a new column."
      ],
      "metadata": {
        "id": "aBMkKGPGEqxC"
      }
    },
    {
      "cell_type": "code",
      "execution_count": null,
      "metadata": {
        "id": "IAPMF1ws4hJ9"
      },
      "outputs": [],
      "source": [
        "datacp['date'] = datacp.date.apply(lambda x: datetime.datetime.strptime(x, '%Y-%m-%d'))"
      ]
    },
    {
      "cell_type": "markdown",
      "source": [
        "* converting date column from object structure to datetime structure."
      ],
      "metadata": {
        "id": "-oKos_nGFPaf"
      }
    },
    {
      "cell_type": "code",
      "execution_count": null,
      "metadata": {
        "id": "7-3VuP7rubFc"
      },
      "outputs": [],
      "source": [
        "datacp[\"day\"] = datacp.date.dt.day_name()"
      ]
    },
    {
      "cell_type": "code",
      "execution_count": null,
      "metadata": {
        "id": "XAnxG0yTuUs-"
      },
      "outputs": [],
      "source": [
        "datacp[\"year\"] = datacp.date.dt.year"
      ]
    },
    {
      "cell_type": "code",
      "execution_count": null,
      "metadata": {
        "id": "F9rjgs47l5hX"
      },
      "outputs": [],
      "source": [
        "datacp['month'] = datacp.date.dt.month_name()"
      ]
    },
    {
      "cell_type": "markdown",
      "source": [
        "* splitting the date column into day, month and year."
      ],
      "metadata": {
        "id": "_i8F_fkRFJve"
      }
    },
    {
      "cell_type": "code",
      "execution_count": null,
      "metadata": {
        "id": "1TqakZl07hOr"
      },
      "outputs": [],
      "source": [
        "def is_weekday(x):\n",
        "    if x.weekday()<5:\n",
        "        return 'weekday'\n",
        "    else:\n",
        "        return 'weekend'\n",
        "\n",
        "datacp['weekday_or_weekend'] = datacp.date.apply(is_weekday)"
      ]
    },
    {
      "cell_type": "markdown",
      "source": [
        "* creating a column that indicates weekday and weekend."
      ],
      "metadata": {
        "id": "47xL0x1UFzaT"
      }
    },
    {
      "cell_type": "code",
      "source": [
        "datacp.drop(columns=\"date\", axis = 1, inplace=True)"
      ],
      "metadata": {
        "id": "hdic2pkvwqP-"
      },
      "execution_count": null,
      "outputs": []
    },
    {
      "cell_type": "code",
      "source": [
        "datacp.head()"
      ],
      "metadata": {
        "colab": {
          "base_uri": "https://localhost:8080/",
          "height": 461
        },
        "id": "zRtxaoim5-eK",
        "outputId": "974de632-77a1-45ba-83b1-e2869db12734"
      },
      "execution_count": null,
      "outputs": [
        {
          "output_type": "execute_result",
          "data": {
            "text/plain": [
              "                stop_name division     line borough structure  gtfs_longitude  \\\n",
              "0  Astoria - Ditmars Blvd      BMT  Astoria       Q  Elevated       73.912034   \n",
              "1  Astoria - Ditmars Blvd      BMT  Astoria       Q  Elevated       73.912034   \n",
              "2  Astoria - Ditmars Blvd      BMT  Astoria       Q  Elevated       73.912034   \n",
              "3  Astoria - Ditmars Blvd      BMT  Astoria       Q  Elevated       73.912034   \n",
              "4  Astoria - Ditmars Blvd      BMT  Astoria       Q  Elevated       73.912034   \n",
              "\n",
              "   gtfs_latitude  entries    exits  entries_exits  station area       day  \\\n",
              "0      40.775036   7014.0   7934.0        14948.0   3013.765847  Thursday   \n",
              "1      40.775036  13367.0  12113.0        25480.0   3013.765847    Friday   \n",
              "2      40.775036   9084.0   7892.0        16976.0   3013.765847  Saturday   \n",
              "3      40.775036   6115.0   5991.0        12106.0   3013.765847    Sunday   \n",
              "4      40.775036  16376.0  14893.0        31269.0   3013.765847    Monday   \n",
              "\n",
              "   year    month weekday_or_weekend  \n",
              "0  2015  January            weekday  \n",
              "1  2015  January            weekday  \n",
              "2  2015  January            weekend  \n",
              "3  2015  January            weekend  \n",
              "4  2015  January            weekday  "
            ],
            "text/html": [
              "\n",
              "  <div id=\"df-f7de3e21-3d06-4451-b782-e53bec6a3044\">\n",
              "    <div class=\"colab-df-container\">\n",
              "      <div>\n",
              "<style scoped>\n",
              "    .dataframe tbody tr th:only-of-type {\n",
              "        vertical-align: middle;\n",
              "    }\n",
              "\n",
              "    .dataframe tbody tr th {\n",
              "        vertical-align: top;\n",
              "    }\n",
              "\n",
              "    .dataframe thead th {\n",
              "        text-align: right;\n",
              "    }\n",
              "</style>\n",
              "<table border=\"1\" class=\"dataframe\">\n",
              "  <thead>\n",
              "    <tr style=\"text-align: right;\">\n",
              "      <th></th>\n",
              "      <th>stop_name</th>\n",
              "      <th>division</th>\n",
              "      <th>line</th>\n",
              "      <th>borough</th>\n",
              "      <th>structure</th>\n",
              "      <th>gtfs_longitude</th>\n",
              "      <th>gtfs_latitude</th>\n",
              "      <th>entries</th>\n",
              "      <th>exits</th>\n",
              "      <th>entries_exits</th>\n",
              "      <th>station area</th>\n",
              "      <th>day</th>\n",
              "      <th>year</th>\n",
              "      <th>month</th>\n",
              "      <th>weekday_or_weekend</th>\n",
              "    </tr>\n",
              "  </thead>\n",
              "  <tbody>\n",
              "    <tr>\n",
              "      <th>0</th>\n",
              "      <td>Astoria - Ditmars Blvd</td>\n",
              "      <td>BMT</td>\n",
              "      <td>Astoria</td>\n",
              "      <td>Q</td>\n",
              "      <td>Elevated</td>\n",
              "      <td>73.912034</td>\n",
              "      <td>40.775036</td>\n",
              "      <td>7014.0</td>\n",
              "      <td>7934.0</td>\n",
              "      <td>14948.0</td>\n",
              "      <td>3013.765847</td>\n",
              "      <td>Thursday</td>\n",
              "      <td>2015</td>\n",
              "      <td>January</td>\n",
              "      <td>weekday</td>\n",
              "    </tr>\n",
              "    <tr>\n",
              "      <th>1</th>\n",
              "      <td>Astoria - Ditmars Blvd</td>\n",
              "      <td>BMT</td>\n",
              "      <td>Astoria</td>\n",
              "      <td>Q</td>\n",
              "      <td>Elevated</td>\n",
              "      <td>73.912034</td>\n",
              "      <td>40.775036</td>\n",
              "      <td>13367.0</td>\n",
              "      <td>12113.0</td>\n",
              "      <td>25480.0</td>\n",
              "      <td>3013.765847</td>\n",
              "      <td>Friday</td>\n",
              "      <td>2015</td>\n",
              "      <td>January</td>\n",
              "      <td>weekday</td>\n",
              "    </tr>\n",
              "    <tr>\n",
              "      <th>2</th>\n",
              "      <td>Astoria - Ditmars Blvd</td>\n",
              "      <td>BMT</td>\n",
              "      <td>Astoria</td>\n",
              "      <td>Q</td>\n",
              "      <td>Elevated</td>\n",
              "      <td>73.912034</td>\n",
              "      <td>40.775036</td>\n",
              "      <td>9084.0</td>\n",
              "      <td>7892.0</td>\n",
              "      <td>16976.0</td>\n",
              "      <td>3013.765847</td>\n",
              "      <td>Saturday</td>\n",
              "      <td>2015</td>\n",
              "      <td>January</td>\n",
              "      <td>weekend</td>\n",
              "    </tr>\n",
              "    <tr>\n",
              "      <th>3</th>\n",
              "      <td>Astoria - Ditmars Blvd</td>\n",
              "      <td>BMT</td>\n",
              "      <td>Astoria</td>\n",
              "      <td>Q</td>\n",
              "      <td>Elevated</td>\n",
              "      <td>73.912034</td>\n",
              "      <td>40.775036</td>\n",
              "      <td>6115.0</td>\n",
              "      <td>5991.0</td>\n",
              "      <td>12106.0</td>\n",
              "      <td>3013.765847</td>\n",
              "      <td>Sunday</td>\n",
              "      <td>2015</td>\n",
              "      <td>January</td>\n",
              "      <td>weekend</td>\n",
              "    </tr>\n",
              "    <tr>\n",
              "      <th>4</th>\n",
              "      <td>Astoria - Ditmars Blvd</td>\n",
              "      <td>BMT</td>\n",
              "      <td>Astoria</td>\n",
              "      <td>Q</td>\n",
              "      <td>Elevated</td>\n",
              "      <td>73.912034</td>\n",
              "      <td>40.775036</td>\n",
              "      <td>16376.0</td>\n",
              "      <td>14893.0</td>\n",
              "      <td>31269.0</td>\n",
              "      <td>3013.765847</td>\n",
              "      <td>Monday</td>\n",
              "      <td>2015</td>\n",
              "      <td>January</td>\n",
              "      <td>weekday</td>\n",
              "    </tr>\n",
              "  </tbody>\n",
              "</table>\n",
              "</div>\n",
              "      <button class=\"colab-df-convert\" onclick=\"convertToInteractive('df-f7de3e21-3d06-4451-b782-e53bec6a3044')\"\n",
              "              title=\"Convert this dataframe to an interactive table.\"\n",
              "              style=\"display:none;\">\n",
              "        \n",
              "  <svg xmlns=\"http://www.w3.org/2000/svg\" height=\"24px\"viewBox=\"0 0 24 24\"\n",
              "       width=\"24px\">\n",
              "    <path d=\"M0 0h24v24H0V0z\" fill=\"none\"/>\n",
              "    <path d=\"M18.56 5.44l.94 2.06.94-2.06 2.06-.94-2.06-.94-.94-2.06-.94 2.06-2.06.94zm-11 1L8.5 8.5l.94-2.06 2.06-.94-2.06-.94L8.5 2.5l-.94 2.06-2.06.94zm10 10l.94 2.06.94-2.06 2.06-.94-2.06-.94-.94-2.06-.94 2.06-2.06.94z\"/><path d=\"M17.41 7.96l-1.37-1.37c-.4-.4-.92-.59-1.43-.59-.52 0-1.04.2-1.43.59L10.3 9.45l-7.72 7.72c-.78.78-.78 2.05 0 2.83L4 21.41c.39.39.9.59 1.41.59.51 0 1.02-.2 1.41-.59l7.78-7.78 2.81-2.81c.8-.78.8-2.07 0-2.86zM5.41 20L4 18.59l7.72-7.72 1.47 1.35L5.41 20z\"/>\n",
              "  </svg>\n",
              "      </button>\n",
              "      \n",
              "  <style>\n",
              "    .colab-df-container {\n",
              "      display:flex;\n",
              "      flex-wrap:wrap;\n",
              "      gap: 12px;\n",
              "    }\n",
              "\n",
              "    .colab-df-convert {\n",
              "      background-color: #E8F0FE;\n",
              "      border: none;\n",
              "      border-radius: 50%;\n",
              "      cursor: pointer;\n",
              "      display: none;\n",
              "      fill: #1967D2;\n",
              "      height: 32px;\n",
              "      padding: 0 0 0 0;\n",
              "      width: 32px;\n",
              "    }\n",
              "\n",
              "    .colab-df-convert:hover {\n",
              "      background-color: #E2EBFA;\n",
              "      box-shadow: 0px 1px 2px rgba(60, 64, 67, 0.3), 0px 1px 3px 1px rgba(60, 64, 67, 0.15);\n",
              "      fill: #174EA6;\n",
              "    }\n",
              "\n",
              "    [theme=dark] .colab-df-convert {\n",
              "      background-color: #3B4455;\n",
              "      fill: #D2E3FC;\n",
              "    }\n",
              "\n",
              "    [theme=dark] .colab-df-convert:hover {\n",
              "      background-color: #434B5C;\n",
              "      box-shadow: 0px 1px 3px 1px rgba(0, 0, 0, 0.15);\n",
              "      filter: drop-shadow(0px 1px 2px rgba(0, 0, 0, 0.3));\n",
              "      fill: #FFFFFF;\n",
              "    }\n",
              "  </style>\n",
              "\n",
              "      <script>\n",
              "        const buttonEl =\n",
              "          document.querySelector('#df-f7de3e21-3d06-4451-b782-e53bec6a3044 button.colab-df-convert');\n",
              "        buttonEl.style.display =\n",
              "          google.colab.kernel.accessAllowed ? 'block' : 'none';\n",
              "\n",
              "        async function convertToInteractive(key) {\n",
              "          const element = document.querySelector('#df-f7de3e21-3d06-4451-b782-e53bec6a3044');\n",
              "          const dataTable =\n",
              "            await google.colab.kernel.invokeFunction('convertToInteractive',\n",
              "                                                     [key], {});\n",
              "          if (!dataTable) return;\n",
              "\n",
              "          const docLinkHtml = 'Like what you see? Visit the ' +\n",
              "            '<a target=\"_blank\" href=https://colab.research.google.com/notebooks/data_table.ipynb>data table notebook</a>'\n",
              "            + ' to learn more about interactive tables.';\n",
              "          element.innerHTML = '';\n",
              "          dataTable['output_type'] = 'display_data';\n",
              "          await google.colab.output.renderOutput(dataTable, element);\n",
              "          const docLink = document.createElement('div');\n",
              "          docLink.innerHTML = docLinkHtml;\n",
              "          element.appendChild(docLink);\n",
              "        }\n",
              "      </script>\n",
              "    </div>\n",
              "  </div>\n",
              "  "
            ]
          },
          "metadata": {},
          "execution_count": 17
        }
      ]
    },
    {
      "cell_type": "markdown",
      "source": [
        "# **data visualization**"
      ],
      "metadata": {
        "id": "brgF6ZdUN3i6"
      }
    },
    {
      "cell_type": "code",
      "source": [
        "corr_nm = datacp.corr()"
      ],
      "metadata": {
        "id": "REgoKbPQK4AL"
      },
      "execution_count": null,
      "outputs": []
    },
    {
      "cell_type": "code",
      "source": [
        "sns.heatmap(corr_nm, annot=True)"
      ],
      "metadata": {
        "colab": {
          "base_uri": "https://localhost:8080/",
          "height": 348
        },
        "id": "EFGHzLFTLJfR",
        "outputId": "358dbe27-8810-42f5-bc99-ec4e8d69525d"
      },
      "execution_count": null,
      "outputs": [
        {
          "output_type": "execute_result",
          "data": {
            "text/plain": [
              "<matplotlib.axes._subplots.AxesSubplot at 0x7f841aab99d0>"
            ]
          },
          "metadata": {},
          "execution_count": 19
        },
        {
          "output_type": "display_data",
          "data": {
            "text/plain": [
              "<Figure size 432x288 with 2 Axes>"
            ],
            "image/png": "[encoded data removed]"
          },
          "metadata": {
            "needs_background": "light"
          }
        }
      ]
    },
    {
      "cell_type": "markdown",
      "source": [
        "* Since gtfs longitude, gtfs latitude and station area do not correlate with total entries/exits, we omit it from the data."
      ],
      "metadata": {
        "id": "QNZaU9hbNfK-"
      }
    },
    {
      "cell_type": "markdown",
      "source": [
        "YEAR"
      ],
      "metadata": {
        "id": "JChaJ0I9O20Q"
      }
    },
    {
      "cell_type": "code",
      "source": [
        "year = datacp.groupby(\"year\").agg({\"entries\":\"mean\",\"exits\":\"mean\"}).reset_index().sort_values(['entries'],ascending=[False])\n",
        "year.head(7)"
      ],
      "metadata": {
        "colab": {
          "base_uri": "https://localhost:8080/",
          "height": 269
        },
        "id": "jMwmKbZiOWUh",
        "outputId": "9b88a253-60ac-4802-f0bc-378ea04d1726"
      },
      "execution_count": null,
      "outputs": [
        {
          "output_type": "execute_result",
          "data": {
            "text/plain": [
              "   year       entries        exits\n",
              "0  2015  11670.643215  8950.841286\n",
              "1  2016  11545.320398  8738.157931\n",
              "2  2017  11435.334114  8738.909184\n",
              "4  2019  11331.146039  9053.900710\n",
              "3  2018  11250.048682  8679.707908\n",
              "5  2020   4060.993047  3741.674422\n",
              "6  2021   4007.187125  4567.096192"
            ],
            "text/html": [
              "\n",
              "  <div id=\"df-dd9f3476-a568-4406-a3a0-e70d7aab5c0f\">\n",
              "    <div class=\"colab-df-container\">\n",
              "      <div>\n",
              "<style scoped>\n",
              "    .dataframe tbody tr th:only-of-type {\n",
              "        vertical-align: middle;\n",
              "    }\n",
              "\n",
              "    .dataframe tbody tr th {\n",
              "        vertical-align: top;\n",
              "    }\n",
              "\n",
              "    .dataframe thead th {\n",
              "        text-align: right;\n",
              "    }\n",
              "</style>\n",
              "<table border=\"1\" class=\"dataframe\">\n",
              "  <thead>\n",
              "    <tr style=\"text-align: right;\">\n",
              "      <th></th>\n",
              "      <th>year</th>\n",
              "      <th>entries</th>\n",
              "      <th>exits</th>\n",
              "    </tr>\n",
              "  </thead>\n",
              "  <tbody>\n",
              "    <tr>\n",
              "      <th>0</th>\n",
              "      <td>2015</td>\n",
              "      <td>11670.643215</td>\n",
              "      <td>8950.841286</td>\n",
              "    </tr>\n",
              "    <tr>\n",
              "      <th>1</th>\n",
              "      <td>2016</td>\n",
              "      <td>11545.320398</td>\n",
              "      <td>8738.157931</td>\n",
              "    </tr>\n",
              "    <tr>\n",
              "      <th>2</th>\n",
              "      <td>2017</td>\n",
              "      <td>11435.334114</td>\n",
              "      <td>8738.909184</td>\n",
              "    </tr>\n",
              "    <tr>\n",
              "      <th>4</th>\n",
              "      <td>2019</td>\n",
              "      <td>11331.146039</td>\n",
              "      <td>9053.900710</td>\n",
              "    </tr>\n",
              "    <tr>\n",
              "      <th>3</th>\n",
              "      <td>2018</td>\n",
              "      <td>11250.048682</td>\n",
              "      <td>8679.707908</td>\n",
              "    </tr>\n",
              "    <tr>\n",
              "      <th>5</th>\n",
              "      <td>2020</td>\n",
              "      <td>4060.993047</td>\n",
              "      <td>3741.674422</td>\n",
              "    </tr>\n",
              "    <tr>\n",
              "      <th>6</th>\n",
              "      <td>2021</td>\n",
              "      <td>4007.187125</td>\n",
              "      <td>4567.096192</td>\n",
              "    </tr>\n",
              "  </tbody>\n",
              "</table>\n",
              "</div>\n",
              "      <button class=\"colab-df-convert\" onclick=\"convertToInteractive('df-dd9f3476-a568-4406-a3a0-e70d7aab5c0f')\"\n",
              "              title=\"Convert this dataframe to an interactive table.\"\n",
              "              style=\"display:none;\">\n",
              "        \n",
              "  <svg xmlns=\"http://www.w3.org/2000/svg\" height=\"24px\"viewBox=\"0 0 24 24\"\n",
              "       width=\"24px\">\n",
              "    <path d=\"M0 0h24v24H0V0z\" fill=\"none\"/>\n",
              "    <path d=\"M18.56 5.44l.94 2.06.94-2.06 2.06-.94-2.06-.94-.94-2.06-.94 2.06-2.06.94zm-11 1L8.5 8.5l.94-2.06 2.06-.94-2.06-.94L8.5 2.5l-.94 2.06-2.06.94zm10 10l.94 2.06.94-2.06 2.06-.94-2.06-.94-.94-2.06-.94 2.06-2.06.94z\"/><path d=\"M17.41 7.96l-1.37-1.37c-.4-.4-.92-.59-1.43-.59-.52 0-1.04.2-1.43.59L10.3 9.45l-7.72 7.72c-.78.78-.78 2.05 0 2.83L4 21.41c.39.39.9.59 1.41.59.51 0 1.02-.2 1.41-.59l7.78-7.78 2.81-2.81c.8-.78.8-2.07 0-2.86zM5.41 20L4 18.59l7.72-7.72 1.47 1.35L5.41 20z\"/>\n",
              "  </svg>\n",
              "      </button>\n",
              "      \n",
              "  <style>\n",
              "    .colab-df-container {\n",
              "      display:flex;\n",
              "      flex-wrap:wrap;\n",
              "      gap: 12px;\n",
              "    }\n",
              "\n",
              "    .colab-df-convert {\n",
              "      background-color: #E8F0FE;\n",
              "      border: none;\n",
              "      border-radius: 50%;\n",
              "      cursor: pointer;\n",
              "      display: none;\n",
              "      fill: #1967D2;\n",
              "      height: 32px;\n",
              "      padding: 0 0 0 0;\n",
              "      width: 32px;\n",
              "    }\n",
              "\n",
              "    .colab-df-convert:hover {\n",
              "      background-color: #E2EBFA;\n",
              "      box-shadow: 0px 1px 2px rgba(60, 64, 67, 0.3), 0px 1px 3px 1px rgba(60, 64, 67, 0.15);\n",
              "      fill: #174EA6;\n",
              "    }\n",
              "\n",
              "    [theme=dark] .colab-df-convert {\n",
              "      background-color: #3B4455;\n",
              "      fill: #D2E3FC;\n",
              "    }\n",
              "\n",
              "    [theme=dark] .colab-df-convert:hover {\n",
              "      background-color: #434B5C;\n",
              "      box-shadow: 0px 1px 3px 1px rgba(0, 0, 0, 0.15);\n",
              "      filter: drop-shadow(0px 1px 2px rgba(0, 0, 0, 0.3));\n",
              "      fill: #FFFFFF;\n",
              "    }\n",
              "  </style>\n",
              "\n",
              "      <script>\n",
              "        const buttonEl =\n",
              "          document.querySelector('#df-dd9f3476-a568-4406-a3a0-e70d7aab5c0f button.colab-df-convert');\n",
              "        buttonEl.style.display =\n",
              "          google.colab.kernel.accessAllowed ? 'block' : 'none';\n",
              "\n",
              "        async function convertToInteractive(key) {\n",
              "          const element = document.querySelector('#df-dd9f3476-a568-4406-a3a0-e70d7aab5c0f');\n",
              "          const dataTable =\n",
              "            await google.colab.kernel.invokeFunction('convertToInteractive',\n",
              "                                                     [key], {});\n",
              "          if (!dataTable) return;\n",
              "\n",
              "          const docLinkHtml = 'Like what you see? Visit the ' +\n",
              "            '<a target=\"_blank\" href=https://colab.research.google.com/notebooks/data_table.ipynb>data table notebook</a>'\n",
              "            + ' to learn more about interactive tables.';\n",
              "          element.innerHTML = '';\n",
              "          dataTable['output_type'] = 'display_data';\n",
              "          await google.colab.output.renderOutput(dataTable, element);\n",
              "          const docLink = document.createElement('div');\n",
              "          docLink.innerHTML = docLinkHtml;\n",
              "          element.appendChild(docLink);\n",
              "        }\n",
              "      </script>\n",
              "    </div>\n",
              "  </div>\n",
              "  "
            ]
          },
          "metadata": {},
          "execution_count": 20
        }
      ]
    },
    {
      "cell_type": "code",
      "source": [
        "fig = plt.figure(figsize=[12,7])\n",
        "chart = fig.add_axes([0.1,0.1,0.8,0.6])\n",
        "years = list(year.year)\n",
        "indeks = np.arange(len(years))\n",
        "a = 0.25\n",
        "entries = list(year.entries)\n",
        "exits = list(year.exits)\n",
        "chart.bar(indeks,entries,width=a, label = \"entries\",color=\"#808080\") \n",
        "chart.bar(indeks+a,exits,width=a, label = \"exits\",color=\"#696969\")\n",
        "chart.set_title(\"average of entries and exits by year\")\n",
        "chart.set_xlabel(\"years\")\n",
        "chart.set_xticks(ticks = indeks) \n",
        "chart.set_xticklabels(labels=years) \n",
        "chart.legend()\n",
        "plt.show()"
      ],
      "metadata": {
        "colab": {
          "base_uri": "https://localhost:8080/",
          "height": 380
        },
        "id": "V-F2y0jSOX2t",
        "outputId": "747947cf-b730-40a2-d667-0eb5573c90ed"
      },
      "execution_count": null,
      "outputs": [
        {
          "output_type": "display_data",
          "data": {
            "text/plain": [
              "<Figure size 864x504 with 1 Axes>"
            ],
            "image/png": "[encoded data removed]"
          },
          "metadata": {
            "needs_background": "light"
          }
        }
      ]
    },
    {
      "cell_type": "markdown",
      "source": [
        "* In 2020 and 2021, there has been a decrease in total entries and exits due to the effect of the pandemic.\n",
        "* While analyzing on a month, day and station basis, it does not provide us with descriptive analyzes in 2020 and 2021, so we will exclude it from our data in these years."
      ],
      "metadata": {
        "id": "N1d--0gLO9x6"
      }
    },
    {
      "cell_type": "code",
      "source": [
        "datacp1 = datacp.set_index(\"year\")"
      ],
      "metadata": {
        "id": "WyxZAK0vcRoT"
      },
      "execution_count": null,
      "outputs": []
    },
    {
      "cell_type": "code",
      "source": [
        "datacp1.drop(index=[2020,2021], inplace=True)"
      ],
      "metadata": {
        "id": "NQ-QXhgkqf5A"
      },
      "execution_count": null,
      "outputs": []
    },
    {
      "cell_type": "code",
      "source": [
        "datacp1.reset_index()"
      ],
      "metadata": {
        "colab": {
          "base_uri": "https://localhost:8080/",
          "height": 678
        },
        "id": "TCPA2q6-rE8q",
        "outputId": "06083149-af78-4404-a167-e44e5359e9d7"
      },
      "execution_count": null,
      "outputs": [
        {
          "output_type": "execute_result",
          "data": {
            "text/plain": [
              "        year               stop_name division     line borough structure  \\\n",
              "0       2015  Astoria - Ditmars Blvd      BMT  Astoria       Q  Elevated   \n",
              "1       2015  Astoria - Ditmars Blvd      BMT  Astoria       Q  Elevated   \n",
              "2       2015  Astoria - Ditmars Blvd      BMT  Astoria       Q  Elevated   \n",
              "3       2015  Astoria - Ditmars Blvd      BMT  Astoria       Q  Elevated   \n",
              "4       2015  Astoria - Ditmars Blvd      BMT  Astoria       Q  Elevated   \n",
              "...      ...                     ...      ...      ...     ...       ...   \n",
              "797776  2019              Journal Sq      PTH      NaN     NaN       NaN   \n",
              "797777  2019              Journal Sq      PTH      NaN     NaN       NaN   \n",
              "797778  2019              Journal Sq      PTH      NaN     NaN       NaN   \n",
              "797779  2019              Journal Sq      PTH      NaN     NaN       NaN   \n",
              "797780  2019              Journal Sq      PTH      NaN     NaN       NaN   \n",
              "\n",
              "        gtfs_longitude  gtfs_latitude  entries    exits  entries_exits  \\\n",
              "0            73.912034      40.775036   7014.0   7934.0        14948.0   \n",
              "1            73.912034      40.775036  13367.0  12113.0        25480.0   \n",
              "2            73.912034      40.775036   9084.0   7892.0        16976.0   \n",
              "3            73.912034      40.775036   6115.0   5991.0        12106.0   \n",
              "4            73.912034      40.775036  16376.0  14893.0        31269.0   \n",
              "...                ...            ...      ...      ...            ...   \n",
              "797776       74.068633      40.730304  22208.0  21824.0        44032.0   \n",
              "797777       74.068633      40.730304  17177.0  19700.0        36877.0   \n",
              "797778       74.068633      40.730304  12084.0  16902.0        28986.0   \n",
              "797779       74.068633      40.730304  21062.0  42026.0        63088.0   \n",
              "797780       74.068633      40.730304  21524.0  22508.0        44032.0   \n",
              "\n",
              "        station area       day     month weekday_or_weekend  \n",
              "0        3013.765847  Thursday   January            weekday  \n",
              "1        3013.765847    Friday   January            weekday  \n",
              "2        3013.765847  Saturday   January            weekend  \n",
              "3        3013.765847    Sunday   January            weekend  \n",
              "4        3013.765847    Monday   January            weekday  \n",
              "...              ...       ...       ...                ...  \n",
              "797776   3016.837941    Friday  December            weekday  \n",
              "797777   3016.837941  Saturday  December            weekend  \n",
              "797778   3016.837941    Sunday  December            weekend  \n",
              "797779   3016.837941    Monday  December            weekday  \n",
              "797780   3016.837941   Tuesday  December            weekday  \n",
              "\n",
              "[797781 rows x 15 columns]"
            ],
            "text/html": [
              "\n",
              "  <div id=\"df-38929d68-d1bc-4421-8d8b-afe603544f23\">\n",
              "    <div class=\"colab-df-container\">\n",
              "      <div>\n",
              "<style scoped>\n",
              "    .dataframe tbody tr th:only-of-type {\n",
              "        vertical-align: middle;\n",
              "    }\n",
              "\n",
              "    .dataframe tbody tr th {\n",
              "        vertical-align: top;\n",
              "    }\n",
              "\n",
              "    .dataframe thead th {\n",
              "        text-align: right;\n",
              "    }\n",
              "</style>\n",
              "<table border=\"1\" class=\"dataframe\">\n",
              "  <thead>\n",
              "    <tr style=\"text-align: right;\">\n",
              "      <th></th>\n",
              "      <th>year</th>\n",
              "      <th>stop_name</th>\n",
              "      <th>division</th>\n",
              "      <th>line</th>\n",
              "      <th>borough</th>\n",
              "      <th>structure</th>\n",
              "      <th>gtfs_longitude</th>\n",
              "      <th>gtfs_latitude</th>\n",
              "      <th>entries</th>\n",
              "      <th>exits</th>\n",
              "      <th>entries_exits</th>\n",
              "      <th>station area</th>\n",
              "      <th>day</th>\n",
              "      <th>month</th>\n",
              "      <th>weekday_or_weekend</th>\n",
              "    </tr>\n",
              "  </thead>\n",
              "  <tbody>\n",
              "    <tr>\n",
              "      <th>0</th>\n",
              "      <td>2015</td>\n",
              "      <td>Astoria - Ditmars Blvd</td>\n",
              "      <td>BMT</td>\n",
              "      <td>Astoria</td>\n",
              "      <td>Q</td>\n",
              "      <td>Elevated</td>\n",
              "      <td>73.912034</td>\n",
              "      <td>40.775036</td>\n",
              "      <td>7014.0</td>\n",
              "      <td>7934.0</td>\n",
              "      <td>14948.0</td>\n",
              "      <td>3013.765847</td>\n",
              "      <td>Thursday</td>\n",
              "      <td>January</td>\n",
              "      <td>weekday</td>\n",
              "    </tr>\n",
              "    <tr>\n",
              "      <th>1</th>\n",
              "      <td>2015</td>\n",
              "      <td>Astoria - Ditmars Blvd</td>\n",
              "      <td>BMT</td>\n",
              "      <td>Astoria</td>\n",
              "      <td>Q</td>\n",
              "      <td>Elevated</td>\n",
              "      <td>73.912034</td>\n",
              "      <td>40.775036</td>\n",
              "      <td>13367.0</td>\n",
              "      <td>12113.0</td>\n",
              "      <td>25480.0</td>\n",
              "      <td>3013.765847</td>\n",
              "      <td>Friday</td>\n",
              "      <td>January</td>\n",
              "      <td>weekday</td>\n",
              "    </tr>\n",
              "    <tr>\n",
              "      <th>2</th>\n",
              "      <td>2015</td>\n",
              "      <td>Astoria - Ditmars Blvd</td>\n",
              "      <td>BMT</td>\n",
              "      <td>Astoria</td>\n",
              "      <td>Q</td>\n",
              "      <td>Elevated</td>\n",
              "      <td>73.912034</td>\n",
              "      <td>40.775036</td>\n",
              "      <td>9084.0</td>\n",
              "      <td>7892.0</td>\n",
              "      <td>16976.0</td>\n",
              "      <td>3013.765847</td>\n",
              "      <td>Saturday</td>\n",
              "      <td>January</td>\n",
              "      <td>weekend</td>\n",
              "    </tr>\n",
              "    <tr>\n",
              "      <th>3</th>\n",
              "      <td>2015</td>\n",
              "      <td>Astoria - Ditmars Blvd</td>\n",
              "      <td>BMT</td>\n",
              "      <td>Astoria</td>\n",
              "      <td>Q</td>\n",
              "      <td>Elevated</td>\n",
              "      <td>73.912034</td>\n",
              "      <td>40.775036</td>\n",
              "      <td>6115.0</td>\n",
              "      <td>5991.0</td>\n",
              "      <td>12106.0</td>\n",
              "      <td>3013.765847</td>\n",
              "      <td>Sunday</td>\n",
              "      <td>January</td>\n",
              "      <td>weekend</td>\n",
              "    </tr>\n",
              "    <tr>\n",
              "      <th>4</th>\n",
              "      <td>2015</td>\n",
              "      <td>Astoria - Ditmars Blvd</td>\n",
              "      <td>BMT</td>\n",
              "      <td>Astoria</td>\n",
              "      <td>Q</td>\n",
              "      <td>Elevated</td>\n",
              "      <td>73.912034</td>\n",
              "      <td>40.775036</td>\n",
              "      <td>16376.0</td>\n",
              "      <td>14893.0</td>\n",
              "      <td>31269.0</td>\n",
              "      <td>3013.765847</td>\n",
              "      <td>Monday</td>\n",
              "      <td>January</td>\n",
              "      <td>weekday</td>\n",
              "    </tr>\n",
              "    <tr>\n",
              "      <th>...</th>\n",
              "      <td>...</td>\n",
              "      <td>...</td>\n",
              "      <td>...</td>\n",
              "      <td>...</td>\n",
              "      <td>...</td>\n",
              "      <td>...</td>\n",
              "      <td>...</td>\n",
              "      <td>...</td>\n",
              "      <td>...</td>\n",
              "      <td>...</td>\n",
              "      <td>...</td>\n",
              "      <td>...</td>\n",
              "      <td>...</td>\n",
              "      <td>...</td>\n",
              "      <td>...</td>\n",
              "    </tr>\n",
              "    <tr>\n",
              "      <th>797776</th>\n",
              "      <td>2019</td>\n",
              "      <td>Journal Sq</td>\n",
              "      <td>PTH</td>\n",
              "      <td>NaN</td>\n",
              "      <td>NaN</td>\n",
              "      <td>NaN</td>\n",
              "      <td>74.068633</td>\n",
              "      <td>40.730304</td>\n",
              "      <td>22208.0</td>\n",
              "      <td>21824.0</td>\n",
              "      <td>44032.0</td>\n",
              "      <td>3016.837941</td>\n",
              "      <td>Friday</td>\n",
              "      <td>December</td>\n",
              "      <td>weekday</td>\n",
              "    </tr>\n",
              "    <tr>\n",
              "      <th>797777</th>\n",
              "      <td>2019</td>\n",
              "      <td>Journal Sq</td>\n",
              "      <td>PTH</td>\n",
              "      <td>NaN</td>\n",
              "      <td>NaN</td>\n",
              "      <td>NaN</td>\n",
              "      <td>74.068633</td>\n",
              "      <td>40.730304</td>\n",
              "      <td>17177.0</td>\n",
              "      <td>19700.0</td>\n",
              "      <td>36877.0</td>\n",
              "      <td>3016.837941</td>\n",
              "      <td>Saturday</td>\n",
              "      <td>December</td>\n",
              "      <td>weekend</td>\n",
              "    </tr>\n",
              "    <tr>\n",
              "      <th>797778</th>\n",
              "      <td>2019</td>\n",
              "      <td>Journal Sq</td>\n",
              "      <td>PTH</td>\n",
              "      <td>NaN</td>\n",
              "      <td>NaN</td>\n",
              "      <td>NaN</td>\n",
              "      <td>74.068633</td>\n",
              "      <td>40.730304</td>\n",
              "      <td>12084.0</td>\n",
              "      <td>16902.0</td>\n",
              "      <td>28986.0</td>\n",
              "      <td>3016.837941</td>\n",
              "      <td>Sunday</td>\n",
              "      <td>December</td>\n",
              "      <td>weekend</td>\n",
              "    </tr>\n",
              "    <tr>\n",
              "      <th>797779</th>\n",
              "      <td>2019</td>\n",
              "      <td>Journal Sq</td>\n",
              "      <td>PTH</td>\n",
              "      <td>NaN</td>\n",
              "      <td>NaN</td>\n",
              "      <td>NaN</td>\n",
              "      <td>74.068633</td>\n",
              "      <td>40.730304</td>\n",
              "      <td>21062.0</td>\n",
              "      <td>42026.0</td>\n",
              "      <td>63088.0</td>\n",
              "      <td>3016.837941</td>\n",
              "      <td>Monday</td>\n",
              "      <td>December</td>\n",
              "      <td>weekday</td>\n",
              "    </tr>\n",
              "    <tr>\n",
              "      <th>797780</th>\n",
              "      <td>2019</td>\n",
              "      <td>Journal Sq</td>\n",
              "      <td>PTH</td>\n",
              "      <td>NaN</td>\n",
              "      <td>NaN</td>\n",
              "      <td>NaN</td>\n",
              "      <td>74.068633</td>\n",
              "      <td>40.730304</td>\n",
              "      <td>21524.0</td>\n",
              "      <td>22508.0</td>\n",
              "      <td>44032.0</td>\n",
              "      <td>3016.837941</td>\n",
              "      <td>Tuesday</td>\n",
              "      <td>December</td>\n",
              "      <td>weekday</td>\n",
              "    </tr>\n",
              "  </tbody>\n",
              "</table>\n",
              "<p>797781 rows × 15 columns</p>\n",
              "</div>\n",
              "      <button class=\"colab-df-convert\" onclick=\"convertToInteractive('df-38929d68-d1bc-4421-8d8b-afe603544f23')\"\n",
              "              title=\"Convert this dataframe to an interactive table.\"\n",
              "              style=\"display:none;\">\n",
              "        \n",
              "  <svg xmlns=\"http://www.w3.org/2000/svg\" height=\"24px\"viewBox=\"0 0 24 24\"\n",
              "       width=\"24px\">\n",
              "    <path d=\"M0 0h24v24H0V0z\" fill=\"none\"/>\n",
              "    <path d=\"M18.56 5.44l.94 2.06.94-2.06 2.06-.94-2.06-.94-.94-2.06-.94 2.06-2.06.94zm-11 1L8.5 8.5l.94-2.06 2.06-.94-2.06-.94L8.5 2.5l-.94 2.06-2.06.94zm10 10l.94 2.06.94-2.06 2.06-.94-2.06-.94-.94-2.06-.94 2.06-2.06.94z\"/><path d=\"M17.41 7.96l-1.37-1.37c-.4-.4-.92-.59-1.43-.59-.52 0-1.04.2-1.43.59L10.3 9.45l-7.72 7.72c-.78.78-.78 2.05 0 2.83L4 21.41c.39.39.9.59 1.41.59.51 0 1.02-.2 1.41-.59l7.78-7.78 2.81-2.81c.8-.78.8-2.07 0-2.86zM5.41 20L4 18.59l7.72-7.72 1.47 1.35L5.41 20z\"/>\n",
              "  </svg>\n",
              "      </button>\n",
              "      \n",
              "  <style>\n",
              "    .colab-df-container {\n",
              "      display:flex;\n",
              "      flex-wrap:wrap;\n",
              "      gap: 12px;\n",
              "    }\n",
              "\n",
              "    .colab-df-convert {\n",
              "      background-color: #E8F0FE;\n",
              "      border: none;\n",
              "      border-radius: 50%;\n",
              "      cursor: pointer;\n",
              "      display: none;\n",
              "      fill: #1967D2;\n",
              "      height: 32px;\n",
              "      padding: 0 0 0 0;\n",
              "      width: 32px;\n",
              "    }\n",
              "\n",
              "    .colab-df-convert:hover {\n",
              "      background-color: #E2EBFA;\n",
              "      box-shadow: 0px 1px 2px rgba(60, 64, 67, 0.3), 0px 1px 3px 1px rgba(60, 64, 67, 0.15);\n",
              "      fill: #174EA6;\n",
              "    }\n",
              "\n",
              "    [theme=dark] .colab-df-convert {\n",
              "      background-color: #3B4455;\n",
              "      fill: #D2E3FC;\n",
              "    }\n",
              "\n",
              "    [theme=dark] .colab-df-convert:hover {\n",
              "      background-color: #434B5C;\n",
              "      box-shadow: 0px 1px 3px 1px rgba(0, 0, 0, 0.15);\n",
              "      filter: drop-shadow(0px 1px 2px rgba(0, 0, 0, 0.3));\n",
              "      fill: #FFFFFF;\n",
              "    }\n",
              "  </style>\n",
              "\n",
              "      <script>\n",
              "        const buttonEl =\n",
              "          document.querySelector('#df-38929d68-d1bc-4421-8d8b-afe603544f23 button.colab-df-convert');\n",
              "        buttonEl.style.display =\n",
              "          google.colab.kernel.accessAllowed ? 'block' : 'none';\n",
              "\n",
              "        async function convertToInteractive(key) {\n",
              "          const element = document.querySelector('#df-38929d68-d1bc-4421-8d8b-afe603544f23');\n",
              "          const dataTable =\n",
              "            await google.colab.kernel.invokeFunction('convertToInteractive',\n",
              "                                                     [key], {});\n",
              "          if (!dataTable) return;\n",
              "\n",
              "          const docLinkHtml = 'Like what you see? Visit the ' +\n",
              "            '<a target=\"_blank\" href=https://colab.research.google.com/notebooks/data_table.ipynb>data table notebook</a>'\n",
              "            + ' to learn more about interactive tables.';\n",
              "          element.innerHTML = '';\n",
              "          dataTable['output_type'] = 'display_data';\n",
              "          await google.colab.output.renderOutput(dataTable, element);\n",
              "          const docLink = document.createElement('div');\n",
              "          docLink.innerHTML = docLinkHtml;\n",
              "          element.appendChild(docLink);\n",
              "        }\n",
              "      </script>\n",
              "    </div>\n",
              "  </div>\n",
              "  "
            ]
          },
          "metadata": {},
          "execution_count": 24
        }
      ]
    },
    {
      "cell_type": "code",
      "source": [
        "datacp1.info()"
      ],
      "metadata": {
        "colab": {
          "base_uri": "https://localhost:8080/"
        },
        "id": "9u2OSftirOdI",
        "outputId": "b7ddabb6-89ce-4fac-d73e-968b8c9319d9"
      },
      "execution_count": null,
      "outputs": [
        {
          "output_type": "stream",
          "name": "stdout",
          "text": [
            "<class 'pandas.core.frame.DataFrame'>\n",
            "Int64Index: 797781 entries, 2015 to 2019\n",
            "Data columns (total 14 columns):\n",
            " #   Column              Non-Null Count   Dtype  \n",
            "---  ------              --------------   -----  \n",
            " 0   stop_name           797158 non-null  object \n",
            " 1   division            797158 non-null  object \n",
            " 2   line                767166 non-null  object \n",
            " 3   borough             767166 non-null  object \n",
            " 4   structure           767166 non-null  object \n",
            " 5   gtfs_longitude      797158 non-null  float64\n",
            " 6   gtfs_latitude       797158 non-null  float64\n",
            " 7   entries             797545 non-null  float64\n",
            " 8   exits               797545 non-null  float64\n",
            " 9   entries_exits       797545 non-null  float64\n",
            " 10  station area        797158 non-null  float64\n",
            " 11  day                 797781 non-null  object \n",
            " 12  month               797781 non-null  object \n",
            " 13  weekday_or_weekend  797781 non-null  object \n",
            "dtypes: float64(6), object(8)\n",
            "memory usage: 91.3+ MB\n"
          ]
        }
      ]
    },
    {
      "cell_type": "markdown",
      "source": [
        "BOROUGH"
      ],
      "metadata": {
        "id": "UgYYknDuxPmg"
      }
    },
    {
      "cell_type": "code",
      "source": [
        "borough = datacp1.groupby(\"borough\").agg({\"entries_exits\":\"mean\"}).reset_index().sort_values(['entries_exits'], ascending=[False])\n",
        "borough.head()"
      ],
      "metadata": {
        "colab": {
          "base_uri": "https://localhost:8080/",
          "height": 206
        },
        "id": "qQW6FhaoVyVt",
        "outputId": "484f66f4-0703-496f-e030-b8012de2ee1f"
      },
      "execution_count": null,
      "outputs": [
        {
          "output_type": "execute_result",
          "data": {
            "text/plain": [
              "  borough  entries_exits\n",
              "2       M   40851.248482\n",
              "3       Q   15209.356351\n",
              "0      Bk   11358.203594\n",
              "1      Bx    9663.253591\n",
              "4      SI    5863.857143"
            ],
            "text/html": [
              "\n",
              "  <div id=\"df-921ea3bf-6195-4da8-b3b9-1f33aa5ddf75\">\n",
              "    <div class=\"colab-df-container\">\n",
              "      <div>\n",
              "<style scoped>\n",
              "    .dataframe tbody tr th:only-of-type {\n",
              "        vertical-align: middle;\n",
              "    }\n",
              "\n",
              "    .dataframe tbody tr th {\n",
              "        vertical-align: top;\n",
              "    }\n",
              "\n",
              "    .dataframe thead th {\n",
              "        text-align: right;\n",
              "    }\n",
              "</style>\n",
              "<table border=\"1\" class=\"dataframe\">\n",
              "  <thead>\n",
              "    <tr style=\"text-align: right;\">\n",
              "      <th></th>\n",
              "      <th>borough</th>\n",
              "      <th>entries_exits</th>\n",
              "    </tr>\n",
              "  </thead>\n",
              "  <tbody>\n",
              "    <tr>\n",
              "      <th>2</th>\n",
              "      <td>M</td>\n",
              "      <td>40851.248482</td>\n",
              "    </tr>\n",
              "    <tr>\n",
              "      <th>3</th>\n",
              "      <td>Q</td>\n",
              "      <td>15209.356351</td>\n",
              "    </tr>\n",
              "    <tr>\n",
              "      <th>0</th>\n",
              "      <td>Bk</td>\n",
              "      <td>11358.203594</td>\n",
              "    </tr>\n",
              "    <tr>\n",
              "      <th>1</th>\n",
              "      <td>Bx</td>\n",
              "      <td>9663.253591</td>\n",
              "    </tr>\n",
              "    <tr>\n",
              "      <th>4</th>\n",
              "      <td>SI</td>\n",
              "      <td>5863.857143</td>\n",
              "    </tr>\n",
              "  </tbody>\n",
              "</table>\n",
              "</div>\n",
              "      <button class=\"colab-df-convert\" onclick=\"convertToInteractive('df-921ea3bf-6195-4da8-b3b9-1f33aa5ddf75')\"\n",
              "              title=\"Convert this dataframe to an interactive table.\"\n",
              "              style=\"display:none;\">\n",
              "        \n",
              "  <svg xmlns=\"http://www.w3.org/2000/svg\" height=\"24px\"viewBox=\"0 0 24 24\"\n",
              "       width=\"24px\">\n",
              "    <path d=\"M0 0h24v24H0V0z\" fill=\"none\"/>\n",
              "    <path d=\"M18.56 5.44l.94 2.06.94-2.06 2.06-.94-2.06-.94-.94-2.06-.94 2.06-2.06.94zm-11 1L8.5 8.5l.94-2.06 2.06-.94-2.06-.94L8.5 2.5l-.94 2.06-2.06.94zm10 10l.94 2.06.94-2.06 2.06-.94-2.06-.94-.94-2.06-.94 2.06-2.06.94z\"/><path d=\"M17.41 7.96l-1.37-1.37c-.4-.4-.92-.59-1.43-.59-.52 0-1.04.2-1.43.59L10.3 9.45l-7.72 7.72c-.78.78-.78 2.05 0 2.83L4 21.41c.39.39.9.59 1.41.59.51 0 1.02-.2 1.41-.59l7.78-7.78 2.81-2.81c.8-.78.8-2.07 0-2.86zM5.41 20L4 18.59l7.72-7.72 1.47 1.35L5.41 20z\"/>\n",
              "  </svg>\n",
              "      </button>\n",
              "      \n",
              "  <style>\n",
              "    .colab-df-container {\n",
              "      display:flex;\n",
              "      flex-wrap:wrap;\n",
              "      gap: 12px;\n",
              "    }\n",
              "\n",
              "    .colab-df-convert {\n",
              "      background-color: #E8F0FE;\n",
              "      border: none;\n",
              "      border-radius: 50%;\n",
              "      cursor: pointer;\n",
              "      display: none;\n",
              "      fill: #1967D2;\n",
              "      height: 32px;\n",
              "      padding: 0 0 0 0;\n",
              "      width: 32px;\n",
              "    }\n",
              "\n",
              "    .colab-df-convert:hover {\n",
              "      background-color: #E2EBFA;\n",
              "      box-shadow: 0px 1px 2px rgba(60, 64, 67, 0.3), 0px 1px 3px 1px rgba(60, 64, 67, 0.15);\n",
              "      fill: #174EA6;\n",
              "    }\n",
              "\n",
              "    [theme=dark] .colab-df-convert {\n",
              "      background-color: #3B4455;\n",
              "      fill: #D2E3FC;\n",
              "    }\n",
              "\n",
              "    [theme=dark] .colab-df-convert:hover {\n",
              "      background-color: #434B5C;\n",
              "      box-shadow: 0px 1px 3px 1px rgba(0, 0, 0, 0.15);\n",
              "      filter: drop-shadow(0px 1px 2px rgba(0, 0, 0, 0.3));\n",
              "      fill: #FFFFFF;\n",
              "    }\n",
              "  </style>\n",
              "\n",
              "      <script>\n",
              "        const buttonEl =\n",
              "          document.querySelector('#df-921ea3bf-6195-4da8-b3b9-1f33aa5ddf75 button.colab-df-convert');\n",
              "        buttonEl.style.display =\n",
              "          google.colab.kernel.accessAllowed ? 'block' : 'none';\n",
              "\n",
              "        async function convertToInteractive(key) {\n",
              "          const element = document.querySelector('#df-921ea3bf-6195-4da8-b3b9-1f33aa5ddf75');\n",
              "          const dataTable =\n",
              "            await google.colab.kernel.invokeFunction('convertToInteractive',\n",
              "                                                     [key], {});\n",
              "          if (!dataTable) return;\n",
              "\n",
              "          const docLinkHtml = 'Like what you see? Visit the ' +\n",
              "            '<a target=\"_blank\" href=https://colab.research.google.com/notebooks/data_table.ipynb>data table notebook</a>'\n",
              "            + ' to learn more about interactive tables.';\n",
              "          element.innerHTML = '';\n",
              "          dataTable['output_type'] = 'display_data';\n",
              "          await google.colab.output.renderOutput(dataTable, element);\n",
              "          const docLink = document.createElement('div');\n",
              "          docLink.innerHTML = docLinkHtml;\n",
              "          element.appendChild(docLink);\n",
              "        }\n",
              "      </script>\n",
              "    </div>\n",
              "  </div>\n",
              "  "
            ]
          },
          "metadata": {},
          "execution_count": 26
        }
      ]
    },
    {
      "cell_type": "code",
      "source": [
        "plt.figure(facecolor=\"#1E90FF\")\n",
        "plt.pie(borough.entries_exits, labels=borough.borough,autopct='%1.0f%%', startangle=90,colors=[\"#98FB98\",\"#87CEEB\",\"#FAFAD2\",\"#E6E6FA\",\"#F5F5F5\"])\n",
        "plt.show()\n",
        "plt.savefig(\"/content/drive/MyDrive/bootcamp-first-project/borough_pie.jpeg\")"
      ],
      "metadata": {
        "colab": {
          "base_uri": "https://localhost:8080/",
          "height": 265
        },
        "id": "SrOxomUuWMUN",
        "outputId": "7919c36b-8b0f-49df-d091-66d78a85f1de"
      },
      "execution_count": null,
      "outputs": [
        {
          "output_type": "display_data",
          "data": {
            "text/plain": [
              "<Figure size 432x288 with 1 Axes>"
            ],
            "image/png": "[encoded data removed]"
          },
          "metadata": {}
        },
        {
          "output_type": "display_data",
          "data": {
            "text/plain": [
              "<Figure size 432x288 with 0 Axes>"
            ]
          },
          "metadata": {}
        }
      ]
    },
    {
      "cell_type": "markdown",
      "source": [
        "* Almost half of the average entries and exits took place in Manhattan.\n",
        "* At least the average daily entries and exitss took place in Staten Island."
      ],
      "metadata": {
        "id": "A-jaBNissVs8"
      }
    },
    {
      "cell_type": "markdown",
      "source": [
        "STRUCTURE"
      ],
      "metadata": {
        "id": "tcrMFssjxYpz"
      }
    },
    {
      "cell_type": "code",
      "source": [
        "structure = datacp1.groupby(\"structure\").agg({\"entries\":\"mean\",\"exits\":\"mean\"}).reset_index().sort_values(['entries'], ascending=[False])\n",
        "structure.head(20)"
      ],
      "metadata": {
        "colab": {
          "base_uri": "https://localhost:8080/",
          "height": 206
        },
        "id": "_uCjTTn_Ndkk",
        "outputId": "a79aa175-4918-4ac2-eede-3e6c1106259d"
      },
      "execution_count": null,
      "outputs": [
        {
          "output_type": "execute_result",
          "data": {
            "text/plain": [
              "  structure       entries         exits\n",
              "3    Subway  16086.099774  12550.188275\n",
              "2  Open Cut   5729.609920   4114.778274\n",
              "1  Elevated   5697.993992   3878.965456\n",
              "4   Viaduct   3389.740307   3162.224312\n",
              "0  At Grade   2691.828070   1639.250762"
            ],
            "text/html": [
              "\n",
              "  <div id=\"df-fdce4283-8f89-468e-96d9-6098902910c0\">\n",
              "    <div class=\"colab-df-container\">\n",
              "      <div>\n",
              "<style scoped>\n",
              "    .dataframe tbody tr th:only-of-type {\n",
              "        vertical-align: middle;\n",
              "    }\n",
              "\n",
              "    .dataframe tbody tr th {\n",
              "        vertical-align: top;\n",
              "    }\n",
              "\n",
              "    .dataframe thead th {\n",
              "        text-align: right;\n",
              "    }\n",
              "</style>\n",
              "<table border=\"1\" class=\"dataframe\">\n",
              "  <thead>\n",
              "    <tr style=\"text-align: right;\">\n",
              "      <th></th>\n",
              "      <th>structure</th>\n",
              "      <th>entries</th>\n",
              "      <th>exits</th>\n",
              "    </tr>\n",
              "  </thead>\n",
              "  <tbody>\n",
              "    <tr>\n",
              "      <th>3</th>\n",
              "      <td>Subway</td>\n",
              "      <td>16086.099774</td>\n",
              "      <td>12550.188275</td>\n",
              "    </tr>\n",
              "    <tr>\n",
              "      <th>2</th>\n",
              "      <td>Open Cut</td>\n",
              "      <td>5729.609920</td>\n",
              "      <td>4114.778274</td>\n",
              "    </tr>\n",
              "    <tr>\n",
              "      <th>1</th>\n",
              "      <td>Elevated</td>\n",
              "      <td>5697.993992</td>\n",
              "      <td>3878.965456</td>\n",
              "    </tr>\n",
              "    <tr>\n",
              "      <th>4</th>\n",
              "      <td>Viaduct</td>\n",
              "      <td>3389.740307</td>\n",
              "      <td>3162.224312</td>\n",
              "    </tr>\n",
              "    <tr>\n",
              "      <th>0</th>\n",
              "      <td>At Grade</td>\n",
              "      <td>2691.828070</td>\n",
              "      <td>1639.250762</td>\n",
              "    </tr>\n",
              "  </tbody>\n",
              "</table>\n",
              "</div>\n",
              "      <button class=\"colab-df-convert\" onclick=\"convertToInteractive('df-fdce4283-8f89-468e-96d9-6098902910c0')\"\n",
              "              title=\"Convert this dataframe to an interactive table.\"\n",
              "              style=\"display:none;\">\n",
              "        \n",
              "  <svg xmlns=\"http://www.w3.org/2000/svg\" height=\"24px\"viewBox=\"0 0 24 24\"\n",
              "       width=\"24px\">\n",
              "    <path d=\"M0 0h24v24H0V0z\" fill=\"none\"/>\n",
              "    <path d=\"M18.56 5.44l.94 2.06.94-2.06 2.06-.94-2.06-.94-.94-2.06-.94 2.06-2.06.94zm-11 1L8.5 8.5l.94-2.06 2.06-.94-2.06-.94L8.5 2.5l-.94 2.06-2.06.94zm10 10l.94 2.06.94-2.06 2.06-.94-2.06-.94-.94-2.06-.94 2.06-2.06.94z\"/><path d=\"M17.41 7.96l-1.37-1.37c-.4-.4-.92-.59-1.43-.59-.52 0-1.04.2-1.43.59L10.3 9.45l-7.72 7.72c-.78.78-.78 2.05 0 2.83L4 21.41c.39.39.9.59 1.41.59.51 0 1.02-.2 1.41-.59l7.78-7.78 2.81-2.81c.8-.78.8-2.07 0-2.86zM5.41 20L4 18.59l7.72-7.72 1.47 1.35L5.41 20z\"/>\n",
              "  </svg>\n",
              "      </button>\n",
              "      \n",
              "  <style>\n",
              "    .colab-df-container {\n",
              "      display:flex;\n",
              "      flex-wrap:wrap;\n",
              "      gap: 12px;\n",
              "    }\n",
              "\n",
              "    .colab-df-convert {\n",
              "      background-color: #E8F0FE;\n",
              "      border: none;\n",
              "      border-radius: 50%;\n",
              "      cursor: pointer;\n",
              "      display: none;\n",
              "      fill: #1967D2;\n",
              "      height: 32px;\n",
              "      padding: 0 0 0 0;\n",
              "      width: 32px;\n",
              "    }\n",
              "\n",
              "    .colab-df-convert:hover {\n",
              "      background-color: #E2EBFA;\n",
              "      box-shadow: 0px 1px 2px rgba(60, 64, 67, 0.3), 0px 1px 3px 1px rgba(60, 64, 67, 0.15);\n",
              "      fill: #174EA6;\n",
              "    }\n",
              "\n",
              "    [theme=dark] .colab-df-convert {\n",
              "      background-color: #3B4455;\n",
              "      fill: #D2E3FC;\n",
              "    }\n",
              "\n",
              "    [theme=dark] .colab-df-convert:hover {\n",
              "      background-color: #434B5C;\n",
              "      box-shadow: 0px 1px 3px 1px rgba(0, 0, 0, 0.15);\n",
              "      filter: drop-shadow(0px 1px 2px rgba(0, 0, 0, 0.3));\n",
              "      fill: #FFFFFF;\n",
              "    }\n",
              "  </style>\n",
              "\n",
              "      <script>\n",
              "        const buttonEl =\n",
              "          document.querySelector('#df-fdce4283-8f89-468e-96d9-6098902910c0 button.colab-df-convert');\n",
              "        buttonEl.style.display =\n",
              "          google.colab.kernel.accessAllowed ? 'block' : 'none';\n",
              "\n",
              "        async function convertToInteractive(key) {\n",
              "          const element = document.querySelector('#df-fdce4283-8f89-468e-96d9-6098902910c0');\n",
              "          const dataTable =\n",
              "            await google.colab.kernel.invokeFunction('convertToInteractive',\n",
              "                                                     [key], {});\n",
              "          if (!dataTable) return;\n",
              "\n",
              "          const docLinkHtml = 'Like what you see? Visit the ' +\n",
              "            '<a target=\"_blank\" href=https://colab.research.google.com/notebooks/data_table.ipynb>data table notebook</a>'\n",
              "            + ' to learn more about interactive tables.';\n",
              "          element.innerHTML = '';\n",
              "          dataTable['output_type'] = 'display_data';\n",
              "          await google.colab.output.renderOutput(dataTable, element);\n",
              "          const docLink = document.createElement('div');\n",
              "          docLink.innerHTML = docLinkHtml;\n",
              "          element.appendChild(docLink);\n",
              "        }\n",
              "      </script>\n",
              "    </div>\n",
              "  </div>\n",
              "  "
            ]
          },
          "metadata": {},
          "execution_count": 28
        }
      ]
    },
    {
      "cell_type": "code",
      "source": [
        "fig = plt.figure(figsize=[14,7])\n",
        "chart = fig.add_axes([0.1,0.1,0.8,0.6])\n",
        "structures = list(structure.structure)\n",
        "indeks = np.arange(len(structures))\n",
        "a = 0.25\n",
        "entries_structure = list(structure.entries)\n",
        "exits_structure = list(structure.exits)\n",
        "chart.bar(indeks,entries_structure,width=a, label = \"entries\",color=\"#778899\") \n",
        "chart.bar(indeks+a,exits_structure,width=a, label = \"exits\",color=\"#B0C4DE\")\n",
        "chart.set_title(\"average of daily entries and exits by structure\")\n",
        "chart.set_xlabel(\"structures\")\n",
        "chart.set_xticks(ticks = indeks) \n",
        "chart.set_xticklabels(labels=structures) \n",
        "chart.legend()\n",
        "plt.show()\n",
        "plt.savefig(\"/content/drive/MyDrive/bootcamp-first-project/structure\")"
      ],
      "metadata": {
        "colab": {
          "base_uri": "https://localhost:8080/",
          "height": 397
        },
        "id": "qO9xjGIx44F5",
        "outputId": "7b83cf1b-3022-45ea-de21-3d103d79bd7a"
      },
      "execution_count": null,
      "outputs": [
        {
          "output_type": "display_data",
          "data": {
            "text/plain": [
              "<Figure size 1008x504 with 1 Axes>"
            ],
            "image/png": "[encoded data removed]"
          },
          "metadata": {
            "needs_background": "light"
          }
        },
        {
          "output_type": "display_data",
          "data": {
            "text/plain": [
              "<Figure size 432x288 with 0 Axes>"
            ]
          },
          "metadata": {}
        }
      ]
    },
    {
      "cell_type": "markdown",
      "source": [
        "* The daily average entrances and exits of the stations with the subway structure are ahead by a wide margin."
      ],
      "metadata": {
        "id": "_etZafiItgfl"
      }
    },
    {
      "cell_type": "markdown",
      "source": [
        "LİNE"
      ],
      "metadata": {
        "id": "enk1zpWhxfua"
      }
    },
    {
      "cell_type": "code",
      "source": [
        "datacp1.line.nunique()"
      ],
      "metadata": {
        "colab": {
          "base_uri": "https://localhost:8080/"
        },
        "id": "MnHtIe49NM9e",
        "outputId": "c108dff8-3d2a-495e-d193-51f3dcff2a8f"
      },
      "execution_count": null,
      "outputs": [
        {
          "output_type": "execute_result",
          "data": {
            "text/plain": [
              "32"
            ]
          },
          "metadata": {},
          "execution_count": 30
        }
      ]
    },
    {
      "cell_type": "code",
      "source": [
        "line = datacp1.groupby(\"line\").agg({\"entries_exits\":\"mean\"}).reset_index().sort_values(['entries_exits'], ascending=[False]).head(10)\n",
        "line"
      ],
      "metadata": {
        "colab": {
          "base_uri": "https://localhost:8080/",
          "height": 363
        },
        "id": "47HNajLhMv3p",
        "outputId": "7506c2e2-5a20-4702-8cea-4cdc84ff6d37"
      },
      "execution_count": null,
      "outputs": [
        {
          "output_type": "execute_result",
          "data": {
            "text/plain": [
              "                                        line  entries_exits\n",
              "9                                   Clark St   54649.767566\n",
              "14                                  Flushing   51926.748077\n",
              "19                              Lexington Av   44410.375198\n",
              "29                                 Second Av   37300.050182\n",
              "24                           Queens - Archer   36548.986304\n",
              "5                                   Broadway   35699.257774\n",
              "2                            6th Av - Culver   27054.444343\n",
              "6                             Broadway - 7Av   25190.485020\n",
              "28  Sea Beach / West End / Culver / Brighton   25173.608981\n",
              "8                                   Canarsie   24513.511712"
            ],
            "text/html": [
              "\n",
              "  <div id=\"df-1952668b-849b-4269-a672-ab9071c2be85\">\n",
              "    <div class=\"colab-df-container\">\n",
              "      <div>\n",
              "<style scoped>\n",
              "    .dataframe tbody tr th:only-of-type {\n",
              "        vertical-align: middle;\n",
              "    }\n",
              "\n",
              "    .dataframe tbody tr th {\n",
              "        vertical-align: top;\n",
              "    }\n",
              "\n",
              "    .dataframe thead th {\n",
              "        text-align: right;\n",
              "    }\n",
              "</style>\n",
              "<table border=\"1\" class=\"dataframe\">\n",
              "  <thead>\n",
              "    <tr style=\"text-align: right;\">\n",
              "      <th></th>\n",
              "      <th>line</th>\n",
              "      <th>entries_exits</th>\n",
              "    </tr>\n",
              "  </thead>\n",
              "  <tbody>\n",
              "    <tr>\n",
              "      <th>9</th>\n",
              "      <td>Clark St</td>\n",
              "      <td>54649.767566</td>\n",
              "    </tr>\n",
              "    <tr>\n",
              "      <th>14</th>\n",
              "      <td>Flushing</td>\n",
              "      <td>51926.748077</td>\n",
              "    </tr>\n",
              "    <tr>\n",
              "      <th>19</th>\n",
              "      <td>Lexington Av</td>\n",
              "      <td>44410.375198</td>\n",
              "    </tr>\n",
              "    <tr>\n",
              "      <th>29</th>\n",
              "      <td>Second Av</td>\n",
              "      <td>37300.050182</td>\n",
              "    </tr>\n",
              "    <tr>\n",
              "      <th>24</th>\n",
              "      <td>Queens - Archer</td>\n",
              "      <td>36548.986304</td>\n",
              "    </tr>\n",
              "    <tr>\n",
              "      <th>5</th>\n",
              "      <td>Broadway</td>\n",
              "      <td>35699.257774</td>\n",
              "    </tr>\n",
              "    <tr>\n",
              "      <th>2</th>\n",
              "      <td>6th Av - Culver</td>\n",
              "      <td>27054.444343</td>\n",
              "    </tr>\n",
              "    <tr>\n",
              "      <th>6</th>\n",
              "      <td>Broadway - 7Av</td>\n",
              "      <td>25190.485020</td>\n",
              "    </tr>\n",
              "    <tr>\n",
              "      <th>28</th>\n",
              "      <td>Sea Beach / West End / Culver / Brighton</td>\n",
              "      <td>25173.608981</td>\n",
              "    </tr>\n",
              "    <tr>\n",
              "      <th>8</th>\n",
              "      <td>Canarsie</td>\n",
              "      <td>24513.511712</td>\n",
              "    </tr>\n",
              "  </tbody>\n",
              "</table>\n",
              "</div>\n",
              "      <button class=\"colab-df-convert\" onclick=\"convertToInteractive('df-1952668b-849b-4269-a672-ab9071c2be85')\"\n",
              "              title=\"Convert this dataframe to an interactive table.\"\n",
              "              style=\"display:none;\">\n",
              "        \n",
              "  <svg xmlns=\"http://www.w3.org/2000/svg\" height=\"24px\"viewBox=\"0 0 24 24\"\n",
              "       width=\"24px\">\n",
              "    <path d=\"M0 0h24v24H0V0z\" fill=\"none\"/>\n",
              "    <path d=\"M18.56 5.44l.94 2.06.94-2.06 2.06-.94-2.06-.94-.94-2.06-.94 2.06-2.06.94zm-11 1L8.5 8.5l.94-2.06 2.06-.94-2.06-.94L8.5 2.5l-.94 2.06-2.06.94zm10 10l.94 2.06.94-2.06 2.06-.94-2.06-.94-.94-2.06-.94 2.06-2.06.94z\"/><path d=\"M17.41 7.96l-1.37-1.37c-.4-.4-.92-.59-1.43-.59-.52 0-1.04.2-1.43.59L10.3 9.45l-7.72 7.72c-.78.78-.78 2.05 0 2.83L4 21.41c.39.39.9.59 1.41.59.51 0 1.02-.2 1.41-.59l7.78-7.78 2.81-2.81c.8-.78.8-2.07 0-2.86zM5.41 20L4 18.59l7.72-7.72 1.47 1.35L5.41 20z\"/>\n",
              "  </svg>\n",
              "      </button>\n",
              "      \n",
              "  <style>\n",
              "    .colab-df-container {\n",
              "      display:flex;\n",
              "      flex-wrap:wrap;\n",
              "      gap: 12px;\n",
              "    }\n",
              "\n",
              "    .colab-df-convert {\n",
              "      background-color: #E8F0FE;\n",
              "      border: none;\n",
              "      border-radius: 50%;\n",
              "      cursor: pointer;\n",
              "      display: none;\n",
              "      fill: #1967D2;\n",
              "      height: 32px;\n",
              "      padding: 0 0 0 0;\n",
              "      width: 32px;\n",
              "    }\n",
              "\n",
              "    .colab-df-convert:hover {\n",
              "      background-color: #E2EBFA;\n",
              "      box-shadow: 0px 1px 2px rgba(60, 64, 67, 0.3), 0px 1px 3px 1px rgba(60, 64, 67, 0.15);\n",
              "      fill: #174EA6;\n",
              "    }\n",
              "\n",
              "    [theme=dark] .colab-df-convert {\n",
              "      background-color: #3B4455;\n",
              "      fill: #D2E3FC;\n",
              "    }\n",
              "\n",
              "    [theme=dark] .colab-df-convert:hover {\n",
              "      background-color: #434B5C;\n",
              "      box-shadow: 0px 1px 3px 1px rgba(0, 0, 0, 0.15);\n",
              "      filter: drop-shadow(0px 1px 2px rgba(0, 0, 0, 0.3));\n",
              "      fill: #FFFFFF;\n",
              "    }\n",
              "  </style>\n",
              "\n",
              "      <script>\n",
              "        const buttonEl =\n",
              "          document.querySelector('#df-1952668b-849b-4269-a672-ab9071c2be85 button.colab-df-convert');\n",
              "        buttonEl.style.display =\n",
              "          google.colab.kernel.accessAllowed ? 'block' : 'none';\n",
              "\n",
              "        async function convertToInteractive(key) {\n",
              "          const element = document.querySelector('#df-1952668b-849b-4269-a672-ab9071c2be85');\n",
              "          const dataTable =\n",
              "            await google.colab.kernel.invokeFunction('convertToInteractive',\n",
              "                                                     [key], {});\n",
              "          if (!dataTable) return;\n",
              "\n",
              "          const docLinkHtml = 'Like what you see? Visit the ' +\n",
              "            '<a target=\"_blank\" href=https://colab.research.google.com/notebooks/data_table.ipynb>data table notebook</a>'\n",
              "            + ' to learn more about interactive tables.';\n",
              "          element.innerHTML = '';\n",
              "          dataTable['output_type'] = 'display_data';\n",
              "          await google.colab.output.renderOutput(dataTable, element);\n",
              "          const docLink = document.createElement('div');\n",
              "          docLink.innerHTML = docLinkHtml;\n",
              "          element.appendChild(docLink);\n",
              "        }\n",
              "      </script>\n",
              "    </div>\n",
              "  </div>\n",
              "  "
            ]
          },
          "metadata": {},
          "execution_count": 31
        }
      ]
    },
    {
      "cell_type": "code",
      "source": [
        "plt.figure(figsize=[11,5])\n",
        "sns.barplot(x=\"line\", y=\"entries_exits\", data=line, palette=\"mako\")\n",
        "plt.title(\"Average of daily entries and exits by lines\")\n",
        "plt.xticks(rotation=45, ha='right');"
      ],
      "metadata": {
        "colab": {
          "base_uri": "https://localhost:8080/",
          "height": 490
        },
        "id": "ar7IYNzEBt7j",
        "outputId": "32eec562-2ef5-49a8-d8e8-78275459a39b"
      },
      "execution_count": null,
      "outputs": [
        {
          "output_type": "display_data",
          "data": {
            "text/plain": [
              "<Figure size 792x360 with 1 Axes>"
            ],
            "image/png": "[encoded data removed]"
          },
          "metadata": {
            "needs_background": "light"
          }
        }
      ]
    },
    {
      "cell_type": "markdown",
      "source": [
        "* daily average entrances and exits of the 10 busiest lines."
      ],
      "metadata": {
        "id": "AXUzGylFurZR"
      }
    },
    {
      "cell_type": "markdown",
      "source": [
        "DİVİSİON"
      ],
      "metadata": {
        "id": "Did015Xkxmkw"
      }
    },
    {
      "cell_type": "code",
      "source": [
        "datacp.division.nunique()"
      ],
      "metadata": {
        "colab": {
          "base_uri": "https://localhost:8080/"
        },
        "id": "PJtIFPKQF3eA",
        "outputId": "e63bc943-69c9-4864-df39-98990406a2f0"
      },
      "execution_count": null,
      "outputs": [
        {
          "output_type": "execute_result",
          "data": {
            "text/plain": [
              "7"
            ]
          },
          "metadata": {},
          "execution_count": 33
        }
      ]
    },
    {
      "cell_type": "code",
      "source": [
        "division = datacp1.groupby(\"division\").agg({\"entries_exits\":\"mean\"}).reset_index().sort_values(['entries_exits'], ascending=[False]).head(7)\n",
        "division"
      ],
      "metadata": {
        "colab": {
          "base_uri": "https://localhost:8080/",
          "height": 269
        },
        "id": "Y4lPXTfWFR-0",
        "outputId": "d58aa0ae-a060-49b3-f999-22f0a0d756f5"
      },
      "execution_count": null,
      "outputs": [
        {
          "output_type": "execute_result",
          "data": {
            "text/plain": [
              "  division  entries_exits\n",
              "4      PTH   32082.865134\n",
              "2      IRT   23393.313293\n",
              "1      IND   19655.608432\n",
              "0      BMT   16395.718700\n",
              "3      JFK   10525.444825\n",
              "6      SIR    5863.857143\n",
              "5      RIT    3514.827206"
            ],
            "text/html": [
              "\n",
              "  <div id=\"df-5f7df184-65d0-4da2-bff9-e8d3618a1cd8\">\n",
              "    <div class=\"colab-df-container\">\n",
              "      <div>\n",
              "<style scoped>\n",
              "    .dataframe tbody tr th:only-of-type {\n",
              "        vertical-align: middle;\n",
              "    }\n",
              "\n",
              "    .dataframe tbody tr th {\n",
              "        vertical-align: top;\n",
              "    }\n",
              "\n",
              "    .dataframe thead th {\n",
              "        text-align: right;\n",
              "    }\n",
              "</style>\n",
              "<table border=\"1\" class=\"dataframe\">\n",
              "  <thead>\n",
              "    <tr style=\"text-align: right;\">\n",
              "      <th></th>\n",
              "      <th>division</th>\n",
              "      <th>entries_exits</th>\n",
              "    </tr>\n",
              "  </thead>\n",
              "  <tbody>\n",
              "    <tr>\n",
              "      <th>4</th>\n",
              "      <td>PTH</td>\n",
              "      <td>32082.865134</td>\n",
              "    </tr>\n",
              "    <tr>\n",
              "      <th>2</th>\n",
              "      <td>IRT</td>\n",
              "      <td>23393.313293</td>\n",
              "    </tr>\n",
              "    <tr>\n",
              "      <th>1</th>\n",
              "      <td>IND</td>\n",
              "      <td>19655.608432</td>\n",
              "    </tr>\n",
              "    <tr>\n",
              "      <th>0</th>\n",
              "      <td>BMT</td>\n",
              "      <td>16395.718700</td>\n",
              "    </tr>\n",
              "    <tr>\n",
              "      <th>3</th>\n",
              "      <td>JFK</td>\n",
              "      <td>10525.444825</td>\n",
              "    </tr>\n",
              "    <tr>\n",
              "      <th>6</th>\n",
              "      <td>SIR</td>\n",
              "      <td>5863.857143</td>\n",
              "    </tr>\n",
              "    <tr>\n",
              "      <th>5</th>\n",
              "      <td>RIT</td>\n",
              "      <td>3514.827206</td>\n",
              "    </tr>\n",
              "  </tbody>\n",
              "</table>\n",
              "</div>\n",
              "      <button class=\"colab-df-convert\" onclick=\"convertToInteractive('df-5f7df184-65d0-4da2-bff9-e8d3618a1cd8')\"\n",
              "              title=\"Convert this dataframe to an interactive table.\"\n",
              "              style=\"display:none;\">\n",
              "        \n",
              "  <svg xmlns=\"http://www.w3.org/2000/svg\" height=\"24px\"viewBox=\"0 0 24 24\"\n",
              "       width=\"24px\">\n",
              "    <path d=\"M0 0h24v24H0V0z\" fill=\"none\"/>\n",
              "    <path d=\"M18.56 5.44l.94 2.06.94-2.06 2.06-.94-2.06-.94-.94-2.06-.94 2.06-2.06.94zm-11 1L8.5 8.5l.94-2.06 2.06-.94-2.06-.94L8.5 2.5l-.94 2.06-2.06.94zm10 10l.94 2.06.94-2.06 2.06-.94-2.06-.94-.94-2.06-.94 2.06-2.06.94z\"/><path d=\"M17.41 7.96l-1.37-1.37c-.4-.4-.92-.59-1.43-.59-.52 0-1.04.2-1.43.59L10.3 9.45l-7.72 7.72c-.78.78-.78 2.05 0 2.83L4 21.41c.39.39.9.59 1.41.59.51 0 1.02-.2 1.41-.59l7.78-7.78 2.81-2.81c.8-.78.8-2.07 0-2.86zM5.41 20L4 18.59l7.72-7.72 1.47 1.35L5.41 20z\"/>\n",
              "  </svg>\n",
              "      </button>\n",
              "      \n",
              "  <style>\n",
              "    .colab-df-container {\n",
              "      display:flex;\n",
              "      flex-wrap:wrap;\n",
              "      gap: 12px;\n",
              "    }\n",
              "\n",
              "    .colab-df-convert {\n",
              "      background-color: #E8F0FE;\n",
              "      border: none;\n",
              "      border-radius: 50%;\n",
              "      cursor: pointer;\n",
              "      display: none;\n",
              "      fill: #1967D2;\n",
              "      height: 32px;\n",
              "      padding: 0 0 0 0;\n",
              "      width: 32px;\n",
              "    }\n",
              "\n",
              "    .colab-df-convert:hover {\n",
              "      background-color: #E2EBFA;\n",
              "      box-shadow: 0px 1px 2px rgba(60, 64, 67, 0.3), 0px 1px 3px 1px rgba(60, 64, 67, 0.15);\n",
              "      fill: #174EA6;\n",
              "    }\n",
              "\n",
              "    [theme=dark] .colab-df-convert {\n",
              "      background-color: #3B4455;\n",
              "      fill: #D2E3FC;\n",
              "    }\n",
              "\n",
              "    [theme=dark] .colab-df-convert:hover {\n",
              "      background-color: #434B5C;\n",
              "      box-shadow: 0px 1px 3px 1px rgba(0, 0, 0, 0.15);\n",
              "      filter: drop-shadow(0px 1px 2px rgba(0, 0, 0, 0.3));\n",
              "      fill: #FFFFFF;\n",
              "    }\n",
              "  </style>\n",
              "\n",
              "      <script>\n",
              "        const buttonEl =\n",
              "          document.querySelector('#df-5f7df184-65d0-4da2-bff9-e8d3618a1cd8 button.colab-df-convert');\n",
              "        buttonEl.style.display =\n",
              "          google.colab.kernel.accessAllowed ? 'block' : 'none';\n",
              "\n",
              "        async function convertToInteractive(key) {\n",
              "          const element = document.querySelector('#df-5f7df184-65d0-4da2-bff9-e8d3618a1cd8');\n",
              "          const dataTable =\n",
              "            await google.colab.kernel.invokeFunction('convertToInteractive',\n",
              "                                                     [key], {});\n",
              "          if (!dataTable) return;\n",
              "\n",
              "          const docLinkHtml = 'Like what you see? Visit the ' +\n",
              "            '<a target=\"_blank\" href=https://colab.research.google.com/notebooks/data_table.ipynb>data table notebook</a>'\n",
              "            + ' to learn more about interactive tables.';\n",
              "          element.innerHTML = '';\n",
              "          dataTable['output_type'] = 'display_data';\n",
              "          await google.colab.output.renderOutput(dataTable, element);\n",
              "          const docLink = document.createElement('div');\n",
              "          docLink.innerHTML = docLinkHtml;\n",
              "          element.appendChild(docLink);\n",
              "        }\n",
              "      </script>\n",
              "    </div>\n",
              "  </div>\n",
              "  "
            ]
          },
          "metadata": {},
          "execution_count": 34
        }
      ]
    },
    {
      "cell_type": "code",
      "source": [
        "plt.figure()\n",
        "sns.barplot(x=\"division\",y=\"entries_exits\", data=division, palette=\"rocket\")\n",
        "plt.xticks(rotation=45, ha='right')\n",
        "plt.title(\"average entry and exit of institutions\");"
      ],
      "metadata": {
        "colab": {
          "base_uri": "https://localhost:8080/",
          "height": 308
        },
        "id": "GTnaqFssH-Ke",
        "outputId": "64372431-f3aa-4167-f26d-db46e2939623"
      },
      "execution_count": null,
      "outputs": [
        {
          "output_type": "display_data",
          "data": {
            "text/plain": [
              "<Figure size 432x288 with 1 Axes>"
            ],
            "image/png": "[encoded data removed]"
          },
          "metadata": {
            "needs_background": "light"
          }
        }
      ]
    },
    {
      "cell_type": "markdown",
      "source": [
        "STATİON"
      ],
      "metadata": {
        "id": "-Pj2QGUIxrw8"
      }
    },
    {
      "cell_type": "code",
      "source": [
        "station = datacp1.groupby(\"stop_name\").agg({\"entries\":\"mean\",\"exits\":\"mean\"}).reset_index().sort_values(['entries'], ascending=[False]).head(10)\n",
        "station"
      ],
      "metadata": {
        "colab": {
          "base_uri": "https://localhost:8080/",
          "height": 363
        },
        "id": "naCP5UFmd6VD",
        "outputId": "6ef89702-3233-4610-fe32-445fa18dabc6"
      },
      "execution_count": null,
      "outputs": [
        {
          "output_type": "execute_result",
          "data": {
            "text/plain": [
              "                   stop_name        entries          exits\n",
              "338         Times Sq - 42 St  179913.506024  149833.015334\n",
              "225    Grand Central - 42 St  125573.605696  115123.001643\n",
              "59         34 St - Herald Sq  108397.442497   96698.181818\n",
              "341         Union Sq - 14 St   94430.567420   81980.415469\n",
              "14          14 St - Union Sq   87991.175342   82266.726027\n",
              "265       Lexington Av/59 St   80685.821918   78943.260274\n",
              "60      34 St - Penn Station   72328.876780   63016.437295\n",
              "82   59 St - Columbus Circle   63640.887185   50390.444688\n",
              "187             Cortlandt St   57094.010267   36359.738535\n",
              "210       Flushing - Main St   51303.930449   42170.906900"
            ],
            "text/html": [
              "\n",
              "  <div id=\"df-ae311c84-2aac-4da1-b1ed-35172b3b740b\">\n",
              "    <div class=\"colab-df-container\">\n",
              "      <div>\n",
              "<style scoped>\n",
              "    .dataframe tbody tr th:only-of-type {\n",
              "        vertical-align: middle;\n",
              "    }\n",
              "\n",
              "    .dataframe tbody tr th {\n",
              "        vertical-align: top;\n",
              "    }\n",
              "\n",
              "    .dataframe thead th {\n",
              "        text-align: right;\n",
              "    }\n",
              "</style>\n",
              "<table border=\"1\" class=\"dataframe\">\n",
              "  <thead>\n",
              "    <tr style=\"text-align: right;\">\n",
              "      <th></th>\n",
              "      <th>stop_name</th>\n",
              "      <th>entries</th>\n",
              "      <th>exits</th>\n",
              "    </tr>\n",
              "  </thead>\n",
              "  <tbody>\n",
              "    <tr>\n",
              "      <th>338</th>\n",
              "      <td>Times Sq - 42 St</td>\n",
              "      <td>179913.506024</td>\n",
              "      <td>149833.015334</td>\n",
              "    </tr>\n",
              "    <tr>\n",
              "      <th>225</th>\n",
              "      <td>Grand Central - 42 St</td>\n",
              "      <td>125573.605696</td>\n",
              "      <td>115123.001643</td>\n",
              "    </tr>\n",
              "    <tr>\n",
              "      <th>59</th>\n",
              "      <td>34 St - Herald Sq</td>\n",
              "      <td>108397.442497</td>\n",
              "      <td>96698.181818</td>\n",
              "    </tr>\n",
              "    <tr>\n",
              "      <th>341</th>\n",
              "      <td>Union Sq - 14 St</td>\n",
              "      <td>94430.567420</td>\n",
              "      <td>81980.415469</td>\n",
              "    </tr>\n",
              "    <tr>\n",
              "      <th>14</th>\n",
              "      <td>14 St - Union Sq</td>\n",
              "      <td>87991.175342</td>\n",
              "      <td>82266.726027</td>\n",
              "    </tr>\n",
              "    <tr>\n",
              "      <th>265</th>\n",
              "      <td>Lexington Av/59 St</td>\n",
              "      <td>80685.821918</td>\n",
              "      <td>78943.260274</td>\n",
              "    </tr>\n",
              "    <tr>\n",
              "      <th>60</th>\n",
              "      <td>34 St - Penn Station</td>\n",
              "      <td>72328.876780</td>\n",
              "      <td>63016.437295</td>\n",
              "    </tr>\n",
              "    <tr>\n",
              "      <th>82</th>\n",
              "      <td>59 St - Columbus Circle</td>\n",
              "      <td>63640.887185</td>\n",
              "      <td>50390.444688</td>\n",
              "    </tr>\n",
              "    <tr>\n",
              "      <th>187</th>\n",
              "      <td>Cortlandt St</td>\n",
              "      <td>57094.010267</td>\n",
              "      <td>36359.738535</td>\n",
              "    </tr>\n",
              "    <tr>\n",
              "      <th>210</th>\n",
              "      <td>Flushing - Main St</td>\n",
              "      <td>51303.930449</td>\n",
              "      <td>42170.906900</td>\n",
              "    </tr>\n",
              "  </tbody>\n",
              "</table>\n",
              "</div>\n",
              "      <button class=\"colab-df-convert\" onclick=\"convertToInteractive('df-ae311c84-2aac-4da1-b1ed-35172b3b740b')\"\n",
              "              title=\"Convert this dataframe to an interactive table.\"\n",
              "              style=\"display:none;\">\n",
              "        \n",
              "  <svg xmlns=\"http://www.w3.org/2000/svg\" height=\"24px\"viewBox=\"0 0 24 24\"\n",
              "       width=\"24px\">\n",
              "    <path d=\"M0 0h24v24H0V0z\" fill=\"none\"/>\n",
              "    <path d=\"M18.56 5.44l.94 2.06.94-2.06 2.06-.94-2.06-.94-.94-2.06-.94 2.06-2.06.94zm-11 1L8.5 8.5l.94-2.06 2.06-.94-2.06-.94L8.5 2.5l-.94 2.06-2.06.94zm10 10l.94 2.06.94-2.06 2.06-.94-2.06-.94-.94-2.06-.94 2.06-2.06.94z\"/><path d=\"M17.41 7.96l-1.37-1.37c-.4-.4-.92-.59-1.43-.59-.52 0-1.04.2-1.43.59L10.3 9.45l-7.72 7.72c-.78.78-.78 2.05 0 2.83L4 21.41c.39.39.9.59 1.41.59.51 0 1.02-.2 1.41-.59l7.78-7.78 2.81-2.81c.8-.78.8-2.07 0-2.86zM5.41 20L4 18.59l7.72-7.72 1.47 1.35L5.41 20z\"/>\n",
              "  </svg>\n",
              "      </button>\n",
              "      \n",
              "  <style>\n",
              "    .colab-df-container {\n",
              "      display:flex;\n",
              "      flex-wrap:wrap;\n",
              "      gap: 12px;\n",
              "    }\n",
              "\n",
              "    .colab-df-convert {\n",
              "      background-color: #E8F0FE;\n",
              "      border: none;\n",
              "      border-radius: 50%;\n",
              "      cursor: pointer;\n",
              "      display: none;\n",
              "      fill: #1967D2;\n",
              "      height: 32px;\n",
              "      padding: 0 0 0 0;\n",
              "      width: 32px;\n",
              "    }\n",
              "\n",
              "    .colab-df-convert:hover {\n",
              "      background-color: #E2EBFA;\n",
              "      box-shadow: 0px 1px 2px rgba(60, 64, 67, 0.3), 0px 1px 3px 1px rgba(60, 64, 67, 0.15);\n",
              "      fill: #174EA6;\n",
              "    }\n",
              "\n",
              "    [theme=dark] .colab-df-convert {\n",
              "      background-color: #3B4455;\n",
              "      fill: #D2E3FC;\n",
              "    }\n",
              "\n",
              "    [theme=dark] .colab-df-convert:hover {\n",
              "      background-color: #434B5C;\n",
              "      box-shadow: 0px 1px 3px 1px rgba(0, 0, 0, 0.15);\n",
              "      filter: drop-shadow(0px 1px 2px rgba(0, 0, 0, 0.3));\n",
              "      fill: #FFFFFF;\n",
              "    }\n",
              "  </style>\n",
              "\n",
              "      <script>\n",
              "        const buttonEl =\n",
              "          document.querySelector('#df-ae311c84-2aac-4da1-b1ed-35172b3b740b button.colab-df-convert');\n",
              "        buttonEl.style.display =\n",
              "          google.colab.kernel.accessAllowed ? 'block' : 'none';\n",
              "\n",
              "        async function convertToInteractive(key) {\n",
              "          const element = document.querySelector('#df-ae311c84-2aac-4da1-b1ed-35172b3b740b');\n",
              "          const dataTable =\n",
              "            await google.colab.kernel.invokeFunction('convertToInteractive',\n",
              "                                                     [key], {});\n",
              "          if (!dataTable) return;\n",
              "\n",
              "          const docLinkHtml = 'Like what you see? Visit the ' +\n",
              "            '<a target=\"_blank\" href=https://colab.research.google.com/notebooks/data_table.ipynb>data table notebook</a>'\n",
              "            + ' to learn more about interactive tables.';\n",
              "          element.innerHTML = '';\n",
              "          dataTable['output_type'] = 'display_data';\n",
              "          await google.colab.output.renderOutput(dataTable, element);\n",
              "          const docLink = document.createElement('div');\n",
              "          docLink.innerHTML = docLinkHtml;\n",
              "          element.appendChild(docLink);\n",
              "        }\n",
              "      </script>\n",
              "    </div>\n",
              "  </div>\n",
              "  "
            ]
          },
          "metadata": {},
          "execution_count": 36
        }
      ]
    },
    {
      "cell_type": "code",
      "source": [
        "fig = plt.figure(figsize=[12,5])\n",
        "chart = fig.add_axes([0.1,0.1,0.8,0.6])\n",
        "stations = list(station.stop_name)\n",
        "indeks = np.arange(len(stations))\n",
        "a = 0.25\n",
        "entries_station = list(station.entries)\n",
        "exits_station = list(station.exits)\n",
        "chart.bar(indeks,entries_station,width=a, label = \"entries\",color=\"#5F9EA0\") \n",
        "chart.bar(indeks+a,exits_station,width=a, label = \"exits\",color=\"#483D8B\")\n",
        "plt.xticks(rotation=45, ha='right')\n",
        "chart.set_title(\"daily entry and exit averages by stations\")\n",
        "chart.set_xlabel(\"stations\")\n",
        "chart.set_ylabel(\"entries_exits\")\n",
        "chart.set_xticks(ticks = indeks) \n",
        "chart.set_xticklabels(labels=stations)\n",
        "chart.legend()\n",
        "plt.show()"
      ],
      "metadata": {
        "colab": {
          "base_uri": "https://localhost:8080/",
          "height": 374
        },
        "id": "YsmXIig2J4EV",
        "outputId": "fcfde39e-fdb7-4fe8-f493-b226ba3e94be"
      },
      "execution_count": null,
      "outputs": [
        {
          "output_type": "display_data",
          "data": {
            "text/plain": [
              "<Figure size 864x360 with 1 Axes>"
            ],
            "image/png": "[encoded data removed]"
          },
          "metadata": {
            "needs_background": "light"
          }
        }
      ]
    },
    {
      "cell_type": "markdown",
      "source": [
        "* 10 stations with the highest daily average entrances and exits."
      ],
      "metadata": {
        "id": "UED9rXSqw6X5"
      }
    },
    {
      "cell_type": "markdown",
      "source": [
        "**DAYS**"
      ],
      "metadata": {
        "id": "1zPCQJpmx6Y2"
      }
    },
    {
      "cell_type": "code",
      "source": [
        "weekday_or_weekend = datacp1.groupby(\"weekday_or_weekend\").agg({\"entries_exits\":\"mean\"}).reset_index().sort_values(['entries_exits'],ascending=[False])\n",
        "weekday_or_weekend.head(2)"
      ],
      "metadata": {
        "colab": {
          "base_uri": "https://localhost:8080/",
          "height": 112
        },
        "id": "dEnN2yyVyqx4",
        "outputId": "090558dc-19ea-4518-a34c-ac320cdf2e47"
      },
      "execution_count": null,
      "outputs": [
        {
          "output_type": "execute_result",
          "data": {
            "text/plain": [
              "  weekday_or_weekend  entries_exits\n",
              "0            weekday   23410.039213\n",
              "1            weekend   12466.506865"
            ],
            "text/html": [
              "\n",
              "  <div id=\"df-729f87d6-bfa1-4d8d-ade5-5ca0352fdd41\">\n",
              "    <div class=\"colab-df-container\">\n",
              "      <div>\n",
              "<style scoped>\n",
              "    .dataframe tbody tr th:only-of-type {\n",
              "        vertical-align: middle;\n",
              "    }\n",
              "\n",
              "    .dataframe tbody tr th {\n",
              "        vertical-align: top;\n",
              "    }\n",
              "\n",
              "    .dataframe thead th {\n",
              "        text-align: right;\n",
              "    }\n",
              "</style>\n",
              "<table border=\"1\" class=\"dataframe\">\n",
              "  <thead>\n",
              "    <tr style=\"text-align: right;\">\n",
              "      <th></th>\n",
              "      <th>weekday_or_weekend</th>\n",
              "      <th>entries_exits</th>\n",
              "    </tr>\n",
              "  </thead>\n",
              "  <tbody>\n",
              "    <tr>\n",
              "      <th>0</th>\n",
              "      <td>weekday</td>\n",
              "      <td>23410.039213</td>\n",
              "    </tr>\n",
              "    <tr>\n",
              "      <th>1</th>\n",
              "      <td>weekend</td>\n",
              "      <td>12466.506865</td>\n",
              "    </tr>\n",
              "  </tbody>\n",
              "</table>\n",
              "</div>\n",
              "      <button class=\"colab-df-convert\" onclick=\"convertToInteractive('df-729f87d6-bfa1-4d8d-ade5-5ca0352fdd41')\"\n",
              "              title=\"Convert this dataframe to an interactive table.\"\n",
              "              style=\"display:none;\">\n",
              "        \n",
              "  <svg xmlns=\"http://www.w3.org/2000/svg\" height=\"24px\"viewBox=\"0 0 24 24\"\n",
              "       width=\"24px\">\n",
              "    <path d=\"M0 0h24v24H0V0z\" fill=\"none\"/>\n",
              "    <path d=\"M18.56 5.44l.94 2.06.94-2.06 2.06-.94-2.06-.94-.94-2.06-.94 2.06-2.06.94zm-11 1L8.5 8.5l.94-2.06 2.06-.94-2.06-.94L8.5 2.5l-.94 2.06-2.06.94zm10 10l.94 2.06.94-2.06 2.06-.94-2.06-.94-.94-2.06-.94 2.06-2.06.94z\"/><path d=\"M17.41 7.96l-1.37-1.37c-.4-.4-.92-.59-1.43-.59-.52 0-1.04.2-1.43.59L10.3 9.45l-7.72 7.72c-.78.78-.78 2.05 0 2.83L4 21.41c.39.39.9.59 1.41.59.51 0 1.02-.2 1.41-.59l7.78-7.78 2.81-2.81c.8-.78.8-2.07 0-2.86zM5.41 20L4 18.59l7.72-7.72 1.47 1.35L5.41 20z\"/>\n",
              "  </svg>\n",
              "      </button>\n",
              "      \n",
              "  <style>\n",
              "    .colab-df-container {\n",
              "      display:flex;\n",
              "      flex-wrap:wrap;\n",
              "      gap: 12px;\n",
              "    }\n",
              "\n",
              "    .colab-df-convert {\n",
              "      background-color: #E8F0FE;\n",
              "      border: none;\n",
              "      border-radius: 50%;\n",
              "      cursor: pointer;\n",
              "      display: none;\n",
              "      fill: #1967D2;\n",
              "      height: 32px;\n",
              "      padding: 0 0 0 0;\n",
              "      width: 32px;\n",
              "    }\n",
              "\n",
              "    .colab-df-convert:hover {\n",
              "      background-color: #E2EBFA;\n",
              "      box-shadow: 0px 1px 2px rgba(60, 64, 67, 0.3), 0px 1px 3px 1px rgba(60, 64, 67, 0.15);\n",
              "      fill: #174EA6;\n",
              "    }\n",
              "\n",
              "    [theme=dark] .colab-df-convert {\n",
              "      background-color: #3B4455;\n",
              "      fill: #D2E3FC;\n",
              "    }\n",
              "\n",
              "    [theme=dark] .colab-df-convert:hover {\n",
              "      background-color: #434B5C;\n",
              "      box-shadow: 0px 1px 3px 1px rgba(0, 0, 0, 0.15);\n",
              "      filter: drop-shadow(0px 1px 2px rgba(0, 0, 0, 0.3));\n",
              "      fill: #FFFFFF;\n",
              "    }\n",
              "  </style>\n",
              "\n",
              "      <script>\n",
              "        const buttonEl =\n",
              "          document.querySelector('#df-729f87d6-bfa1-4d8d-ade5-5ca0352fdd41 button.colab-df-convert');\n",
              "        buttonEl.style.display =\n",
              "          google.colab.kernel.accessAllowed ? 'block' : 'none';\n",
              "\n",
              "        async function convertToInteractive(key) {\n",
              "          const element = document.querySelector('#df-729f87d6-bfa1-4d8d-ade5-5ca0352fdd41');\n",
              "          const dataTable =\n",
              "            await google.colab.kernel.invokeFunction('convertToInteractive',\n",
              "                                                     [key], {});\n",
              "          if (!dataTable) return;\n",
              "\n",
              "          const docLinkHtml = 'Like what you see? Visit the ' +\n",
              "            '<a target=\"_blank\" href=https://colab.research.google.com/notebooks/data_table.ipynb>data table notebook</a>'\n",
              "            + ' to learn more about interactive tables.';\n",
              "          element.innerHTML = '';\n",
              "          dataTable['output_type'] = 'display_data';\n",
              "          await google.colab.output.renderOutput(dataTable, element);\n",
              "          const docLink = document.createElement('div');\n",
              "          docLink.innerHTML = docLinkHtml;\n",
              "          element.appendChild(docLink);\n",
              "        }\n",
              "      </script>\n",
              "    </div>\n",
              "  </div>\n",
              "  "
            ]
          },
          "metadata": {},
          "execution_count": 38
        }
      ]
    },
    {
      "cell_type": "code",
      "source": [
        "day = datacp1.groupby('day').agg({\"entries\":\"mean\",\"exits\":\"mean\"}).reset_index().sort_values(['entries'], ascending=[False])\n",
        "day.head(7)\n"
      ],
      "metadata": {
        "colab": {
          "base_uri": "https://localhost:8080/",
          "height": 269
        },
        "id": "GdPx0GYFSMjQ",
        "outputId": "2c4783d8-2925-4faf-b7f2-cfbb5435f76c"
      },
      "execution_count": null,
      "outputs": [
        {
          "output_type": "execute_result",
          "data": {
            "text/plain": [
              "         day       entries         exits\n",
              "6  Wednesday  13719.509630  10449.293512\n",
              "4   Thursday  13585.224251  10352.017707\n",
              "5    Tuesday  13415.190839  10226.184017\n",
              "0     Friday  13307.590845  10186.432017\n",
              "1     Monday  12375.195996   9438.332626\n",
              "2   Saturday   7671.607616   6213.921262\n",
              "3     Sunday   6073.003699   4974.418967"
            ],
            "text/html": [
              "\n",
              "  <div id=\"df-61bc1f70-c1f5-46ab-b3d9-e480cdcd601b\">\n",
              "    <div class=\"colab-df-container\">\n",
              "      <div>\n",
              "<style scoped>\n",
              "    .dataframe tbody tr th:only-of-type {\n",
              "        vertical-align: middle;\n",
              "    }\n",
              "\n",
              "    .dataframe tbody tr th {\n",
              "        vertical-align: top;\n",
              "    }\n",
              "\n",
              "    .dataframe thead th {\n",
              "        text-align: right;\n",
              "    }\n",
              "</style>\n",
              "<table border=\"1\" class=\"dataframe\">\n",
              "  <thead>\n",
              "    <tr style=\"text-align: right;\">\n",
              "      <th></th>\n",
              "      <th>day</th>\n",
              "      <th>entries</th>\n",
              "      <th>exits</th>\n",
              "    </tr>\n",
              "  </thead>\n",
              "  <tbody>\n",
              "    <tr>\n",
              "      <th>6</th>\n",
              "      <td>Wednesday</td>\n",
              "      <td>13719.509630</td>\n",
              "      <td>10449.293512</td>\n",
              "    </tr>\n",
              "    <tr>\n",
              "      <th>4</th>\n",
              "      <td>Thursday</td>\n",
              "      <td>13585.224251</td>\n",
              "      <td>10352.017707</td>\n",
              "    </tr>\n",
              "    <tr>\n",
              "      <th>5</th>\n",
              "      <td>Tuesday</td>\n",
              "      <td>13415.190839</td>\n",
              "      <td>10226.184017</td>\n",
              "    </tr>\n",
              "    <tr>\n",
              "      <th>0</th>\n",
              "      <td>Friday</td>\n",
              "      <td>13307.590845</td>\n",
              "      <td>10186.432017</td>\n",
              "    </tr>\n",
              "    <tr>\n",
              "      <th>1</th>\n",
              "      <td>Monday</td>\n",
              "      <td>12375.195996</td>\n",
              "      <td>9438.332626</td>\n",
              "    </tr>\n",
              "    <tr>\n",
              "      <th>2</th>\n",
              "      <td>Saturday</td>\n",
              "      <td>7671.607616</td>\n",
              "      <td>6213.921262</td>\n",
              "    </tr>\n",
              "    <tr>\n",
              "      <th>3</th>\n",
              "      <td>Sunday</td>\n",
              "      <td>6073.003699</td>\n",
              "      <td>4974.418967</td>\n",
              "    </tr>\n",
              "  </tbody>\n",
              "</table>\n",
              "</div>\n",
              "      <button class=\"colab-df-convert\" onclick=\"convertToInteractive('df-61bc1f70-c1f5-46ab-b3d9-e480cdcd601b')\"\n",
              "              title=\"Convert this dataframe to an interactive table.\"\n",
              "              style=\"display:none;\">\n",
              "        \n",
              "  <svg xmlns=\"http://www.w3.org/2000/svg\" height=\"24px\"viewBox=\"0 0 24 24\"\n",
              "       width=\"24px\">\n",
              "    <path d=\"M0 0h24v24H0V0z\" fill=\"none\"/>\n",
              "    <path d=\"M18.56 5.44l.94 2.06.94-2.06 2.06-.94-2.06-.94-.94-2.06-.94 2.06-2.06.94zm-11 1L8.5 8.5l.94-2.06 2.06-.94-2.06-.94L8.5 2.5l-.94 2.06-2.06.94zm10 10l.94 2.06.94-2.06 2.06-.94-2.06-.94-.94-2.06-.94 2.06-2.06.94z\"/><path d=\"M17.41 7.96l-1.37-1.37c-.4-.4-.92-.59-1.43-.59-.52 0-1.04.2-1.43.59L10.3 9.45l-7.72 7.72c-.78.78-.78 2.05 0 2.83L4 21.41c.39.39.9.59 1.41.59.51 0 1.02-.2 1.41-.59l7.78-7.78 2.81-2.81c.8-.78.8-2.07 0-2.86zM5.41 20L4 18.59l7.72-7.72 1.47 1.35L5.41 20z\"/>\n",
              "  </svg>\n",
              "      </button>\n",
              "      \n",
              "  <style>\n",
              "    .colab-df-container {\n",
              "      display:flex;\n",
              "      flex-wrap:wrap;\n",
              "      gap: 12px;\n",
              "    }\n",
              "\n",
              "    .colab-df-convert {\n",
              "      background-color: #E8F0FE;\n",
              "      border: none;\n",
              "      border-radius: 50%;\n",
              "      cursor: pointer;\n",
              "      display: none;\n",
              "      fill: #1967D2;\n",
              "      height: 32px;\n",
              "      padding: 0 0 0 0;\n",
              "      width: 32px;\n",
              "    }\n",
              "\n",
              "    .colab-df-convert:hover {\n",
              "      background-color: #E2EBFA;\n",
              "      box-shadow: 0px 1px 2px rgba(60, 64, 67, 0.3), 0px 1px 3px 1px rgba(60, 64, 67, 0.15);\n",
              "      fill: #174EA6;\n",
              "    }\n",
              "\n",
              "    [theme=dark] .colab-df-convert {\n",
              "      background-color: #3B4455;\n",
              "      fill: #D2E3FC;\n",
              "    }\n",
              "\n",
              "    [theme=dark] .colab-df-convert:hover {\n",
              "      background-color: #434B5C;\n",
              "      box-shadow: 0px 1px 3px 1px rgba(0, 0, 0, 0.15);\n",
              "      filter: drop-shadow(0px 1px 2px rgba(0, 0, 0, 0.3));\n",
              "      fill: #FFFFFF;\n",
              "    }\n",
              "  </style>\n",
              "\n",
              "      <script>\n",
              "        const buttonEl =\n",
              "          document.querySelector('#df-61bc1f70-c1f5-46ab-b3d9-e480cdcd601b button.colab-df-convert');\n",
              "        buttonEl.style.display =\n",
              "          google.colab.kernel.accessAllowed ? 'block' : 'none';\n",
              "\n",
              "        async function convertToInteractive(key) {\n",
              "          const element = document.querySelector('#df-61bc1f70-c1f5-46ab-b3d9-e480cdcd601b');\n",
              "          const dataTable =\n",
              "            await google.colab.kernel.invokeFunction('convertToInteractive',\n",
              "                                                     [key], {});\n",
              "          if (!dataTable) return;\n",
              "\n",
              "          const docLinkHtml = 'Like what you see? Visit the ' +\n",
              "            '<a target=\"_blank\" href=https://colab.research.google.com/notebooks/data_table.ipynb>data table notebook</a>'\n",
              "            + ' to learn more about interactive tables.';\n",
              "          element.innerHTML = '';\n",
              "          dataTable['output_type'] = 'display_data';\n",
              "          await google.colab.output.renderOutput(dataTable, element);\n",
              "          const docLink = document.createElement('div');\n",
              "          docLink.innerHTML = docLinkHtml;\n",
              "          element.appendChild(docLink);\n",
              "        }\n",
              "      </script>\n",
              "    </div>\n",
              "  </div>\n",
              "  "
            ]
          },
          "metadata": {},
          "execution_count": 39
        }
      ]
    },
    {
      "cell_type": "code",
      "source": [
        "fig = plt.figure(figsize=[14,7])\n",
        "plt.subplot(2,1,1)\n",
        "plt.pie(weekday_or_weekend.entries_exits, labels=weekday_or_weekend.weekday_or_weekend, autopct='%1.1f%%', startangle=90)\n",
        "plt.subplot(2,1,2)\n",
        "chart = fig.add_axes([0.1,0.08,0.8,0.4])\n",
        "days = list(day.day)\n",
        "indeks = np.arange(len(days))\n",
        "a = 0.25\n",
        "entries_day = list(day.entries)\n",
        "exits_day = list(day.exits)\n",
        "chart.bar(indeks,entries_day,width=a, label = \"entries\",color=\"#778899\") \n",
        "chart.bar(indeks+a,exits_day,width=a, label = \"exits\",color=\"#B0C4DE\")\n",
        "chart.set_title(\"average of entries and exits by day\")\n",
        "chart.set_xlabel(\"days\")\n",
        "chart.set_xticks(ticks = indeks)\n",
        "chart.set_xticklabels(labels=days) \n",
        "chart.legend()\n",
        "plt.show()"
      ],
      "metadata": {
        "colab": {
          "base_uri": "https://localhost:8080/",
          "height": 465
        },
        "id": "xc3YRtSxNHDT",
        "outputId": "7332a4ee-3f74-47f2-b2c5-7619700c2701"
      },
      "execution_count": null,
      "outputs": [
        {
          "output_type": "display_data",
          "data": {
            "text/plain": [
              "<Figure size 1008x504 with 3 Axes>"
            ],
            "image/png": "[encoded data removed]"
          },
          "metadata": {
            "needs_background": "light"
          }
        }
      ]
    },
    {
      "cell_type": "markdown",
      "source": [
        "* At the stations, weekends are busier than weekdays.\n",
        "* especially on Sundays, daily average entries and exits decreased."
      ],
      "metadata": {
        "id": "s2S7PLm3yV7Z"
      }
    },
    {
      "cell_type": "markdown",
      "source": [
        "MONTH"
      ],
      "metadata": {
        "id": "tpYwgoIN4nB7"
      }
    },
    {
      "cell_type": "code",
      "source": [
        "month = datacp1.groupby(\"month\").agg({\"entries\":\"mean\",\"exits\":\"mean\"}).reset_index().sort_values(['entries'],ascending=[False])\n",
        "month.head(12)"
      ],
      "metadata": {
        "colab": {
          "base_uri": "https://localhost:8080/",
          "height": 425
        },
        "id": "Ymu6YxbqBemI",
        "outputId": "35a7c7ea-0918-4da0-d319-cedc1e65f7cd"
      },
      "execution_count": null,
      "outputs": [
        {
          "output_type": "execute_result",
          "data": {
            "text/plain": [
              "        month       entries        exits\n",
              "10    October  12102.820218  9313.358869\n",
              "6        June  11901.163551  9208.882288\n",
              "8         May  11856.820590  9082.419240\n",
              "0       April  11779.146718  9046.944382\n",
              "7       March  11697.886098  8924.717710\n",
              "9    November  11578.418245  8906.975502\n",
              "11  September  11575.538571  8945.709286\n",
              "3    February  11184.434106  8550.237356\n",
              "2    December  11131.940450  8627.593478\n",
              "5        July  10974.056328  8609.622697\n",
              "1      August  10968.402021  8615.530907\n",
              "4     January  10618.002336  8153.589585"
            ],
            "text/html": [
              "\n",
              "  <div id=\"df-ff53866d-e852-4280-8b4a-a7e670c7d08d\">\n",
              "    <div class=\"colab-df-container\">\n",
              "      <div>\n",
              "<style scoped>\n",
              "    .dataframe tbody tr th:only-of-type {\n",
              "        vertical-align: middle;\n",
              "    }\n",
              "\n",
              "    .dataframe tbody tr th {\n",
              "        vertical-align: top;\n",
              "    }\n",
              "\n",
              "    .dataframe thead th {\n",
              "        text-align: right;\n",
              "    }\n",
              "</style>\n",
              "<table border=\"1\" class=\"dataframe\">\n",
              "  <thead>\n",
              "    <tr style=\"text-align: right;\">\n",
              "      <th></th>\n",
              "      <th>month</th>\n",
              "      <th>entries</th>\n",
              "      <th>exits</th>\n",
              "    </tr>\n",
              "  </thead>\n",
              "  <tbody>\n",
              "    <tr>\n",
              "      <th>10</th>\n",
              "      <td>October</td>\n",
              "      <td>12102.820218</td>\n",
              "      <td>9313.358869</td>\n",
              "    </tr>\n",
              "    <tr>\n",
              "      <th>6</th>\n",
              "      <td>June</td>\n",
              "      <td>11901.163551</td>\n",
              "      <td>9208.882288</td>\n",
              "    </tr>\n",
              "    <tr>\n",
              "      <th>8</th>\n",
              "      <td>May</td>\n",
              "      <td>11856.820590</td>\n",
              "      <td>9082.419240</td>\n",
              "    </tr>\n",
              "    <tr>\n",
              "      <th>0</th>\n",
              "      <td>April</td>\n",
              "      <td>11779.146718</td>\n",
              "      <td>9046.944382</td>\n",
              "    </tr>\n",
              "    <tr>\n",
              "      <th>7</th>\n",
              "      <td>March</td>\n",
              "      <td>11697.886098</td>\n",
              "      <td>8924.717710</td>\n",
              "    </tr>\n",
              "    <tr>\n",
              "      <th>9</th>\n",
              "      <td>November</td>\n",
              "      <td>11578.418245</td>\n",
              "      <td>8906.975502</td>\n",
              "    </tr>\n",
              "    <tr>\n",
              "      <th>11</th>\n",
              "      <td>September</td>\n",
              "      <td>11575.538571</td>\n",
              "      <td>8945.709286</td>\n",
              "    </tr>\n",
              "    <tr>\n",
              "      <th>3</th>\n",
              "      <td>February</td>\n",
              "      <td>11184.434106</td>\n",
              "      <td>8550.237356</td>\n",
              "    </tr>\n",
              "    <tr>\n",
              "      <th>2</th>\n",
              "      <td>December</td>\n",
              "      <td>11131.940450</td>\n",
              "      <td>8627.593478</td>\n",
              "    </tr>\n",
              "    <tr>\n",
              "      <th>5</th>\n",
              "      <td>July</td>\n",
              "      <td>10974.056328</td>\n",
              "      <td>8609.622697</td>\n",
              "    </tr>\n",
              "    <tr>\n",
              "      <th>1</th>\n",
              "      <td>August</td>\n",
              "      <td>10968.402021</td>\n",
              "      <td>8615.530907</td>\n",
              "    </tr>\n",
              "    <tr>\n",
              "      <th>4</th>\n",
              "      <td>January</td>\n",
              "      <td>10618.002336</td>\n",
              "      <td>8153.589585</td>\n",
              "    </tr>\n",
              "  </tbody>\n",
              "</table>\n",
              "</div>\n",
              "      <button class=\"colab-df-convert\" onclick=\"convertToInteractive('df-ff53866d-e852-4280-8b4a-a7e670c7d08d')\"\n",
              "              title=\"Convert this dataframe to an interactive table.\"\n",
              "              style=\"display:none;\">\n",
              "        \n",
              "  <svg xmlns=\"http://www.w3.org/2000/svg\" height=\"24px\"viewBox=\"0 0 24 24\"\n",
              "       width=\"24px\">\n",
              "    <path d=\"M0 0h24v24H0V0z\" fill=\"none\"/>\n",
              "    <path d=\"M18.56 5.44l.94 2.06.94-2.06 2.06-.94-2.06-.94-.94-2.06-.94 2.06-2.06.94zm-11 1L8.5 8.5l.94-2.06 2.06-.94-2.06-.94L8.5 2.5l-.94 2.06-2.06.94zm10 10l.94 2.06.94-2.06 2.06-.94-2.06-.94-.94-2.06-.94 2.06-2.06.94z\"/><path d=\"M17.41 7.96l-1.37-1.37c-.4-.4-.92-.59-1.43-.59-.52 0-1.04.2-1.43.59L10.3 9.45l-7.72 7.72c-.78.78-.78 2.05 0 2.83L4 21.41c.39.39.9.59 1.41.59.51 0 1.02-.2 1.41-.59l7.78-7.78 2.81-2.81c.8-.78.8-2.07 0-2.86zM5.41 20L4 18.59l7.72-7.72 1.47 1.35L5.41 20z\"/>\n",
              "  </svg>\n",
              "      </button>\n",
              "      \n",
              "  <style>\n",
              "    .colab-df-container {\n",
              "      display:flex;\n",
              "      flex-wrap:wrap;\n",
              "      gap: 12px;\n",
              "    }\n",
              "\n",
              "    .colab-df-convert {\n",
              "      background-color: #E8F0FE;\n",
              "      border: none;\n",
              "      border-radius: 50%;\n",
              "      cursor: pointer;\n",
              "      display: none;\n",
              "      fill: #1967D2;\n",
              "      height: 32px;\n",
              "      padding: 0 0 0 0;\n",
              "      width: 32px;\n",
              "    }\n",
              "\n",
              "    .colab-df-convert:hover {\n",
              "      background-color: #E2EBFA;\n",
              "      box-shadow: 0px 1px 2px rgba(60, 64, 67, 0.3), 0px 1px 3px 1px rgba(60, 64, 67, 0.15);\n",
              "      fill: #174EA6;\n",
              "    }\n",
              "\n",
              "    [theme=dark] .colab-df-convert {\n",
              "      background-color: #3B4455;\n",
              "      fill: #D2E3FC;\n",
              "    }\n",
              "\n",
              "    [theme=dark] .colab-df-convert:hover {\n",
              "      background-color: #434B5C;\n",
              "      box-shadow: 0px 1px 3px 1px rgba(0, 0, 0, 0.15);\n",
              "      filter: drop-shadow(0px 1px 2px rgba(0, 0, 0, 0.3));\n",
              "      fill: #FFFFFF;\n",
              "    }\n",
              "  </style>\n",
              "\n",
              "      <script>\n",
              "        const buttonEl =\n",
              "          document.querySelector('#df-ff53866d-e852-4280-8b4a-a7e670c7d08d button.colab-df-convert');\n",
              "        buttonEl.style.display =\n",
              "          google.colab.kernel.accessAllowed ? 'block' : 'none';\n",
              "\n",
              "        async function convertToInteractive(key) {\n",
              "          const element = document.querySelector('#df-ff53866d-e852-4280-8b4a-a7e670c7d08d');\n",
              "          const dataTable =\n",
              "            await google.colab.kernel.invokeFunction('convertToInteractive',\n",
              "                                                     [key], {});\n",
              "          if (!dataTable) return;\n",
              "\n",
              "          const docLinkHtml = 'Like what you see? Visit the ' +\n",
              "            '<a target=\"_blank\" href=https://colab.research.google.com/notebooks/data_table.ipynb>data table notebook</a>'\n",
              "            + ' to learn more about interactive tables.';\n",
              "          element.innerHTML = '';\n",
              "          dataTable['output_type'] = 'display_data';\n",
              "          await google.colab.output.renderOutput(dataTable, element);\n",
              "          const docLink = document.createElement('div');\n",
              "          docLink.innerHTML = docLinkHtml;\n",
              "          element.appendChild(docLink);\n",
              "        }\n",
              "      </script>\n",
              "    </div>\n",
              "  </div>\n",
              "  "
            ]
          },
          "metadata": {},
          "execution_count": 51
        }
      ]
    },
    {
      "cell_type": "code",
      "source": [
        "fig = plt.figure(figsize=[12,6])\n",
        "chart = fig.add_axes([0.1,0.1,0.8,0.6])\n",
        "months = list(month.month)\n",
        "indeks = np.arange(len(months))\n",
        "a = 0.25\n",
        "entries_month = list(month.entries)\n",
        "exits_month = list(month.exits)\n",
        "chart.bar(indeks,entries_month,width=a, label = \"entries\",color=\"#808080\") \n",
        "chart.bar(indeks+a,exits_month,width=a, label = \"exits\",color=\"#696969\")\n",
        "plt.xticks(rotation=45, ha='right')\n",
        "chart.set_title(\"average of entries and exits by month\")\n",
        "chart.set_xlabel(\"months\")\n",
        "chart.set_ylabel(\"entries_exits\")\n",
        "chart.set_xticks(ticks = indeks) \n",
        "chart.set_xticklabels(labels=months) \n",
        "chart.legend()\n",
        "plt.show()"
      ],
      "metadata": {
        "colab": {
          "base_uri": "https://localhost:8080/",
          "height": 373
        },
        "id": "xsIBcJEZN7nu",
        "outputId": "d833c671-28e6-463e-b845-f646f4981ea5"
      },
      "execution_count": null,
      "outputs": [
        {
          "output_type": "display_data",
          "data": {
            "text/plain": [
              "<Figure size 864x432 with 1 Axes>"
            ],
            "image/png": "[encoded data removed]"
          },
          "metadata": {
            "needs_background": "light"
          }
        }
      ]
    },
    {
      "cell_type": "markdown",
      "source": [
        "* It is seen that the spring months are relatively busier than the other months."
      ],
      "metadata": {
        "id": "71J_AOFo5S-Q"
      }
    }
  ],
  "metadata": {
    "colab": {
      "provenance": []
    },
    "gpuClass": "standard",
    "kernelspec": {
      "display_name": "Python 3",
      "name": "python3"
    },
    "language_info": {
      "name": "python"
    }
  },
  "nbformat": 4,
  "nbformat_minor": 0
}